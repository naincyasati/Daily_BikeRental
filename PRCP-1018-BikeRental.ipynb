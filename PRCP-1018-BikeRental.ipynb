{
 "cells": [
  {
   "cell_type": "markdown",
   "metadata": {},
   "source": [
    "**Project title :- PRCP-1018-BikeRental**"
   ]
  },
  {
   "cell_type": "markdown",
   "metadata": {},
   "source": [
    "**Problem statement :-**"
   ]
  },
  {
   "cell_type": "raw",
   "metadata": {},
   "source": [
    "Task 1:- Prepare a complete data analysis report on the given data.\r\n",
    "\r\n",
    "Task 2:- Prediction of daily bike rental count based on the environmental and seasonal settings."
   ]
  },
  {
   "cell_type": "markdown",
   "metadata": {},
   "source": [
    "**Contents :-**\n",
    "             \n",
    "        1. Exploratory Data Analysis\n",
    "           * Loading the dataset and libraries\n",
    "           * Data cleaning\n",
    "           * Typecasting the attributes\n",
    "           * Missing value analysis\n",
    "        2. Attributes distributions and trends\n",
    "           * Monthly distribution of counts\n",
    "           * Yearly distribution of counts\n",
    "           * Outliers analysis\n",
    "        3. Normality test\n",
    "        4. Correlation matrix \n",
    "        5. Split the dataset into train and test dataset\n",
    "        6. Encoding the categorical features\n",
    "        7. Modelling the training dataset\n",
    "           * Linear Regression Model\n",
    "           * Decision Tree Regressor Model\n",
    "           * Random Forest Model\n",
    "        8. Cross Validation Prediction\n",
    "           * Linear Regression CV Prediction\n",
    "           * Decision Tree Regressor CV Prediction\n",
    "           * Random Forest CV Prediction\n",
    "        9. Model performance on test dataset\n",
    "           * Linear Regression Prediction\n",
    "           * Decision Tree Regressor Prediction\n",
    "           * Random Forest Prediction\n",
    "        10. Model Evaluation Metrics\n",
    "           * R-squared score\n",
    "           * Root mean square error\n",
    "           * Mean absolute error\n",
    "        11.Choosing best model for predicting bike rental count"
   ]
  },
  {
   "cell_type": "markdown",
   "metadata": {},
   "source": [
    "**Exploratory Data Analysis**"
   ]
  },
  {
   "cell_type": "markdown",
   "metadata": {},
   "source": [
    "**Import the required libraries**"
   ]
  },
  {
   "cell_type": "code",
   "execution_count": 1,
   "metadata": {
    "_cell_guid": "b1076dfc-b9ad-4769-8c92-a6c4dae69d19",
    "_uuid": "8f2839f25d086af736a60e9eeb907d3b93b6e0e5"
   },
   "outputs": [
    {
     "name": "stdout",
     "output_type": "stream",
     "text": [
      "['bike sharing.docx', 'day.csv', 'hour.csv', 'Readme.txt']\n"
     ]
    }
   ],
   "source": [
    "import numpy as np \n",
    "import pandas as pd\n",
    "import matplotlib.pyplot as plt\n",
    "import seaborn as sns\n",
    "from sklearn.model_selection import train_test_split\n",
    "import warnings\n",
    "warnings.filterwarnings('ignore')\n",
    "import os\n",
    "print(os.listdir(\"D:\\Bike rental project\\Data\"))\n",
    "\n"
   ]
  },
  {
   "cell_type": "markdown",
   "metadata": {},
   "source": [
    "**Read the training data**"
   ]
  },
  {
   "cell_type": "code",
   "execution_count": 2,
   "metadata": {
    "_cell_guid": "79c7e3d0-c299-4dcb-8224-4455121ee9b0",
    "_uuid": "d629ff2d2480ee46fbb7e2d37f6b5fab8052498a"
   },
   "outputs": [],
   "source": [
    "#import the csv file\n",
    "bike_df=pd.read_csv(\"D:\\Bike rental project\\Data\\day.csv\")"
   ]
  },
  {
   "cell_type": "markdown",
   "metadata": {},
   "source": [
    "**Shape of the dataset**"
   ]
  },
  {
   "cell_type": "code",
   "execution_count": 3,
   "metadata": {},
   "outputs": [
    {
     "data": {
      "text/plain": [
       "(731, 16)"
      ]
     },
     "execution_count": 3,
     "metadata": {},
     "output_type": "execute_result"
    }
   ],
   "source": [
    "#Shape of the dataset\n",
    "bike_df.shape"
   ]
  },
  {
   "cell_type": "markdown",
   "metadata": {},
   "source": [
    "The dataset contains 731 observations and 16 attributes."
   ]
  },
  {
   "cell_type": "markdown",
   "metadata": {},
   "source": [
    "**Data types**"
   ]
  },
  {
   "cell_type": "code",
   "execution_count": 4,
   "metadata": {},
   "outputs": [
    {
     "data": {
      "text/plain": [
       "instant         int64\n",
       "dteday         object\n",
       "season          int64\n",
       "yr              int64\n",
       "mnth            int64\n",
       "holiday         int64\n",
       "weekday         int64\n",
       "workingday      int64\n",
       "weathersit      int64\n",
       "temp          float64\n",
       "atemp         float64\n",
       "hum           float64\n",
       "windspeed     float64\n",
       "casual          int64\n",
       "registered      int64\n",
       "cnt             int64\n",
       "dtype: object"
      ]
     },
     "execution_count": 4,
     "metadata": {},
     "output_type": "execute_result"
    }
   ],
   "source": [
    "#Data types\n",
    "bike_df.dtypes"
   ]
  },
  {
   "cell_type": "code",
   "execution_count": 5,
   "metadata": {},
   "outputs": [
    {
     "data": {
      "text/html": [
       "<div>\n",
       "<style scoped>\n",
       "    .dataframe tbody tr th:only-of-type {\n",
       "        vertical-align: middle;\n",
       "    }\n",
       "\n",
       "    .dataframe tbody tr th {\n",
       "        vertical-align: top;\n",
       "    }\n",
       "\n",
       "    .dataframe thead th {\n",
       "        text-align: right;\n",
       "    }\n",
       "</style>\n",
       "<table border=\"1\" class=\"dataframe\">\n",
       "  <thead>\n",
       "    <tr style=\"text-align: right;\">\n",
       "      <th></th>\n",
       "      <th>instant</th>\n",
       "      <th>dteday</th>\n",
       "      <th>season</th>\n",
       "      <th>yr</th>\n",
       "      <th>mnth</th>\n",
       "      <th>holiday</th>\n",
       "      <th>weekday</th>\n",
       "      <th>workingday</th>\n",
       "      <th>weathersit</th>\n",
       "      <th>temp</th>\n",
       "      <th>atemp</th>\n",
       "      <th>hum</th>\n",
       "      <th>windspeed</th>\n",
       "      <th>casual</th>\n",
       "      <th>registered</th>\n",
       "      <th>cnt</th>\n",
       "    </tr>\n",
       "  </thead>\n",
       "  <tbody>\n",
       "    <tr>\n",
       "      <th>0</th>\n",
       "      <td>1</td>\n",
       "      <td>2011-01-01</td>\n",
       "      <td>1</td>\n",
       "      <td>0</td>\n",
       "      <td>1</td>\n",
       "      <td>0</td>\n",
       "      <td>6</td>\n",
       "      <td>0</td>\n",
       "      <td>2</td>\n",
       "      <td>0.344167</td>\n",
       "      <td>0.363625</td>\n",
       "      <td>0.805833</td>\n",
       "      <td>0.160446</td>\n",
       "      <td>331</td>\n",
       "      <td>654</td>\n",
       "      <td>985</td>\n",
       "    </tr>\n",
       "    <tr>\n",
       "      <th>1</th>\n",
       "      <td>2</td>\n",
       "      <td>2011-01-02</td>\n",
       "      <td>1</td>\n",
       "      <td>0</td>\n",
       "      <td>1</td>\n",
       "      <td>0</td>\n",
       "      <td>0</td>\n",
       "      <td>0</td>\n",
       "      <td>2</td>\n",
       "      <td>0.363478</td>\n",
       "      <td>0.353739</td>\n",
       "      <td>0.696087</td>\n",
       "      <td>0.248539</td>\n",
       "      <td>131</td>\n",
       "      <td>670</td>\n",
       "      <td>801</td>\n",
       "    </tr>\n",
       "    <tr>\n",
       "      <th>2</th>\n",
       "      <td>3</td>\n",
       "      <td>2011-01-03</td>\n",
       "      <td>1</td>\n",
       "      <td>0</td>\n",
       "      <td>1</td>\n",
       "      <td>0</td>\n",
       "      <td>1</td>\n",
       "      <td>1</td>\n",
       "      <td>1</td>\n",
       "      <td>0.196364</td>\n",
       "      <td>0.189405</td>\n",
       "      <td>0.437273</td>\n",
       "      <td>0.248309</td>\n",
       "      <td>120</td>\n",
       "      <td>1229</td>\n",
       "      <td>1349</td>\n",
       "    </tr>\n",
       "    <tr>\n",
       "      <th>3</th>\n",
       "      <td>4</td>\n",
       "      <td>2011-01-04</td>\n",
       "      <td>1</td>\n",
       "      <td>0</td>\n",
       "      <td>1</td>\n",
       "      <td>0</td>\n",
       "      <td>2</td>\n",
       "      <td>1</td>\n",
       "      <td>1</td>\n",
       "      <td>0.200000</td>\n",
       "      <td>0.212122</td>\n",
       "      <td>0.590435</td>\n",
       "      <td>0.160296</td>\n",
       "      <td>108</td>\n",
       "      <td>1454</td>\n",
       "      <td>1562</td>\n",
       "    </tr>\n",
       "    <tr>\n",
       "      <th>4</th>\n",
       "      <td>5</td>\n",
       "      <td>2011-01-05</td>\n",
       "      <td>1</td>\n",
       "      <td>0</td>\n",
       "      <td>1</td>\n",
       "      <td>0</td>\n",
       "      <td>3</td>\n",
       "      <td>1</td>\n",
       "      <td>1</td>\n",
       "      <td>0.226957</td>\n",
       "      <td>0.229270</td>\n",
       "      <td>0.436957</td>\n",
       "      <td>0.186900</td>\n",
       "      <td>82</td>\n",
       "      <td>1518</td>\n",
       "      <td>1600</td>\n",
       "    </tr>\n",
       "  </tbody>\n",
       "</table>\n",
       "</div>"
      ],
      "text/plain": [
       "   instant      dteday  season  yr  mnth  holiday  weekday  workingday  \\\n",
       "0        1  2011-01-01       1   0     1        0        6           0   \n",
       "1        2  2011-01-02       1   0     1        0        0           0   \n",
       "2        3  2011-01-03       1   0     1        0        1           1   \n",
       "3        4  2011-01-04       1   0     1        0        2           1   \n",
       "4        5  2011-01-05       1   0     1        0        3           1   \n",
       "\n",
       "   weathersit      temp     atemp       hum  windspeed  casual  registered  \\\n",
       "0           2  0.344167  0.363625  0.805833   0.160446     331         654   \n",
       "1           2  0.363478  0.353739  0.696087   0.248539     131         670   \n",
       "2           1  0.196364  0.189405  0.437273   0.248309     120        1229   \n",
       "3           1  0.200000  0.212122  0.590435   0.160296     108        1454   \n",
       "4           1  0.226957  0.229270  0.436957   0.186900      82        1518   \n",
       "\n",
       "    cnt  \n",
       "0   985  \n",
       "1   801  \n",
       "2  1349  \n",
       "3  1562  \n",
       "4  1600  "
      ]
     },
     "execution_count": 5,
     "metadata": {},
     "output_type": "execute_result"
    }
   ],
   "source": [
    "#Read the data\n",
    "bike_df.head(5)"
   ]
  },
  {
   "cell_type": "markdown",
   "metadata": {},
   "source": [
    "**Rename the columns for better understanding of variables**"
   ]
  },
  {
   "cell_type": "code",
   "execution_count": 6,
   "metadata": {},
   "outputs": [],
   "source": [
    "#Rename the columns\n",
    "bike_df.rename(columns={'instant':'rec_id','dteday':'datetime','yr':'year','mnth':'month','weathersit':'weather_condition',\n",
    "                       'hum':'humidity','cnt':'total_count'},inplace=True)"
   ]
  },
  {
   "cell_type": "code",
   "execution_count": 7,
   "metadata": {},
   "outputs": [
    {
     "data": {
      "text/html": [
       "<div>\n",
       "<style scoped>\n",
       "    .dataframe tbody tr th:only-of-type {\n",
       "        vertical-align: middle;\n",
       "    }\n",
       "\n",
       "    .dataframe tbody tr th {\n",
       "        vertical-align: top;\n",
       "    }\n",
       "\n",
       "    .dataframe thead th {\n",
       "        text-align: right;\n",
       "    }\n",
       "</style>\n",
       "<table border=\"1\" class=\"dataframe\">\n",
       "  <thead>\n",
       "    <tr style=\"text-align: right;\">\n",
       "      <th></th>\n",
       "      <th>rec_id</th>\n",
       "      <th>datetime</th>\n",
       "      <th>season</th>\n",
       "      <th>year</th>\n",
       "      <th>month</th>\n",
       "      <th>holiday</th>\n",
       "      <th>weekday</th>\n",
       "      <th>workingday</th>\n",
       "      <th>weather_condition</th>\n",
       "      <th>temp</th>\n",
       "      <th>atemp</th>\n",
       "      <th>humidity</th>\n",
       "      <th>windspeed</th>\n",
       "      <th>casual</th>\n",
       "      <th>registered</th>\n",
       "      <th>total_count</th>\n",
       "    </tr>\n",
       "  </thead>\n",
       "  <tbody>\n",
       "    <tr>\n",
       "      <th>0</th>\n",
       "      <td>1</td>\n",
       "      <td>2011-01-01</td>\n",
       "      <td>1</td>\n",
       "      <td>0</td>\n",
       "      <td>1</td>\n",
       "      <td>0</td>\n",
       "      <td>6</td>\n",
       "      <td>0</td>\n",
       "      <td>2</td>\n",
       "      <td>0.344167</td>\n",
       "      <td>0.363625</td>\n",
       "      <td>0.805833</td>\n",
       "      <td>0.160446</td>\n",
       "      <td>331</td>\n",
       "      <td>654</td>\n",
       "      <td>985</td>\n",
       "    </tr>\n",
       "    <tr>\n",
       "      <th>1</th>\n",
       "      <td>2</td>\n",
       "      <td>2011-01-02</td>\n",
       "      <td>1</td>\n",
       "      <td>0</td>\n",
       "      <td>1</td>\n",
       "      <td>0</td>\n",
       "      <td>0</td>\n",
       "      <td>0</td>\n",
       "      <td>2</td>\n",
       "      <td>0.363478</td>\n",
       "      <td>0.353739</td>\n",
       "      <td>0.696087</td>\n",
       "      <td>0.248539</td>\n",
       "      <td>131</td>\n",
       "      <td>670</td>\n",
       "      <td>801</td>\n",
       "    </tr>\n",
       "    <tr>\n",
       "      <th>2</th>\n",
       "      <td>3</td>\n",
       "      <td>2011-01-03</td>\n",
       "      <td>1</td>\n",
       "      <td>0</td>\n",
       "      <td>1</td>\n",
       "      <td>0</td>\n",
       "      <td>1</td>\n",
       "      <td>1</td>\n",
       "      <td>1</td>\n",
       "      <td>0.196364</td>\n",
       "      <td>0.189405</td>\n",
       "      <td>0.437273</td>\n",
       "      <td>0.248309</td>\n",
       "      <td>120</td>\n",
       "      <td>1229</td>\n",
       "      <td>1349</td>\n",
       "    </tr>\n",
       "    <tr>\n",
       "      <th>3</th>\n",
       "      <td>4</td>\n",
       "      <td>2011-01-04</td>\n",
       "      <td>1</td>\n",
       "      <td>0</td>\n",
       "      <td>1</td>\n",
       "      <td>0</td>\n",
       "      <td>2</td>\n",
       "      <td>1</td>\n",
       "      <td>1</td>\n",
       "      <td>0.200000</td>\n",
       "      <td>0.212122</td>\n",
       "      <td>0.590435</td>\n",
       "      <td>0.160296</td>\n",
       "      <td>108</td>\n",
       "      <td>1454</td>\n",
       "      <td>1562</td>\n",
       "    </tr>\n",
       "    <tr>\n",
       "      <th>4</th>\n",
       "      <td>5</td>\n",
       "      <td>2011-01-05</td>\n",
       "      <td>1</td>\n",
       "      <td>0</td>\n",
       "      <td>1</td>\n",
       "      <td>0</td>\n",
       "      <td>3</td>\n",
       "      <td>1</td>\n",
       "      <td>1</td>\n",
       "      <td>0.226957</td>\n",
       "      <td>0.229270</td>\n",
       "      <td>0.436957</td>\n",
       "      <td>0.186900</td>\n",
       "      <td>82</td>\n",
       "      <td>1518</td>\n",
       "      <td>1600</td>\n",
       "    </tr>\n",
       "  </tbody>\n",
       "</table>\n",
       "</div>"
      ],
      "text/plain": [
       "   rec_id    datetime  season  year  month  holiday  weekday  workingday  \\\n",
       "0       1  2011-01-01       1     0      1        0        6           0   \n",
       "1       2  2011-01-02       1     0      1        0        0           0   \n",
       "2       3  2011-01-03       1     0      1        0        1           1   \n",
       "3       4  2011-01-04       1     0      1        0        2           1   \n",
       "4       5  2011-01-05       1     0      1        0        3           1   \n",
       "\n",
       "   weather_condition      temp     atemp  humidity  windspeed  casual  \\\n",
       "0                  2  0.344167  0.363625  0.805833   0.160446     331   \n",
       "1                  2  0.363478  0.353739  0.696087   0.248539     131   \n",
       "2                  1  0.196364  0.189405  0.437273   0.248309     120   \n",
       "3                  1  0.200000  0.212122  0.590435   0.160296     108   \n",
       "4                  1  0.226957  0.229270  0.436957   0.186900      82   \n",
       "\n",
       "   registered  total_count  \n",
       "0         654          985  \n",
       "1         670          801  \n",
       "2        1229         1349  \n",
       "3        1454         1562  \n",
       "4        1518         1600  "
      ]
     },
     "execution_count": 7,
     "metadata": {},
     "output_type": "execute_result"
    }
   ],
   "source": [
    "#Read the data\n",
    "bike_df.head(5)"
   ]
  },
  {
   "cell_type": "markdown",
   "metadata": {},
   "source": [
    "**Typecasting the datetime and numerical attributes**"
   ]
  },
  {
   "cell_type": "code",
   "execution_count": 8,
   "metadata": {},
   "outputs": [],
   "source": [
    "#Type casting the datetime and numerical attributes to category\n",
    "\n",
    "bike_df['datetime']=pd.to_datetime(bike_df.datetime)\n",
    "\n",
    "bike_df['season']=bike_df.season.astype('category')\n",
    "bike_df['year']=bike_df.year.astype('category')\n",
    "bike_df['month']=bike_df.month.astype('category')\n",
    "bike_df['holiday']=bike_df.holiday.astype('category')\n",
    "bike_df['weekday']=bike_df.weekday.astype('category')\n",
    "bike_df['workingday']=bike_df.workingday.astype('category')\n",
    "bike_df['weather_condition']=bike_df.weather_condition.astype('category')"
   ]
  },
  {
   "cell_type": "code",
   "execution_count": 9,
   "metadata": {},
   "outputs": [
    {
     "data": {
      "text/html": [
       "<div>\n",
       "<style scoped>\n",
       "    .dataframe tbody tr th:only-of-type {\n",
       "        vertical-align: middle;\n",
       "    }\n",
       "\n",
       "    .dataframe tbody tr th {\n",
       "        vertical-align: top;\n",
       "    }\n",
       "\n",
       "    .dataframe thead th {\n",
       "        text-align: right;\n",
       "    }\n",
       "</style>\n",
       "<table border=\"1\" class=\"dataframe\">\n",
       "  <thead>\n",
       "    <tr style=\"text-align: right;\">\n",
       "      <th></th>\n",
       "      <th>rec_id</th>\n",
       "      <th>datetime</th>\n",
       "      <th>temp</th>\n",
       "      <th>atemp</th>\n",
       "      <th>humidity</th>\n",
       "      <th>windspeed</th>\n",
       "      <th>casual</th>\n",
       "      <th>registered</th>\n",
       "      <th>total_count</th>\n",
       "    </tr>\n",
       "  </thead>\n",
       "  <tbody>\n",
       "    <tr>\n",
       "      <th>count</th>\n",
       "      <td>731.000000</td>\n",
       "      <td>731</td>\n",
       "      <td>731.000000</td>\n",
       "      <td>731.000000</td>\n",
       "      <td>731.000000</td>\n",
       "      <td>731.000000</td>\n",
       "      <td>731.000000</td>\n",
       "      <td>731.000000</td>\n",
       "      <td>731.000000</td>\n",
       "    </tr>\n",
       "    <tr>\n",
       "      <th>mean</th>\n",
       "      <td>366.000000</td>\n",
       "      <td>2012-01-01 00:00:00</td>\n",
       "      <td>0.495385</td>\n",
       "      <td>0.474354</td>\n",
       "      <td>0.627894</td>\n",
       "      <td>0.190486</td>\n",
       "      <td>848.176471</td>\n",
       "      <td>3656.172367</td>\n",
       "      <td>4504.348837</td>\n",
       "    </tr>\n",
       "    <tr>\n",
       "      <th>min</th>\n",
       "      <td>1.000000</td>\n",
       "      <td>2011-01-01 00:00:00</td>\n",
       "      <td>0.059130</td>\n",
       "      <td>0.079070</td>\n",
       "      <td>0.000000</td>\n",
       "      <td>0.022392</td>\n",
       "      <td>2.000000</td>\n",
       "      <td>20.000000</td>\n",
       "      <td>22.000000</td>\n",
       "    </tr>\n",
       "    <tr>\n",
       "      <th>25%</th>\n",
       "      <td>183.500000</td>\n",
       "      <td>2011-07-02 12:00:00</td>\n",
       "      <td>0.337083</td>\n",
       "      <td>0.337842</td>\n",
       "      <td>0.520000</td>\n",
       "      <td>0.134950</td>\n",
       "      <td>315.500000</td>\n",
       "      <td>2497.000000</td>\n",
       "      <td>3152.000000</td>\n",
       "    </tr>\n",
       "    <tr>\n",
       "      <th>50%</th>\n",
       "      <td>366.000000</td>\n",
       "      <td>2012-01-01 00:00:00</td>\n",
       "      <td>0.498333</td>\n",
       "      <td>0.486733</td>\n",
       "      <td>0.626667</td>\n",
       "      <td>0.180975</td>\n",
       "      <td>713.000000</td>\n",
       "      <td>3662.000000</td>\n",
       "      <td>4548.000000</td>\n",
       "    </tr>\n",
       "    <tr>\n",
       "      <th>75%</th>\n",
       "      <td>548.500000</td>\n",
       "      <td>2012-07-01 12:00:00</td>\n",
       "      <td>0.655417</td>\n",
       "      <td>0.608602</td>\n",
       "      <td>0.730209</td>\n",
       "      <td>0.233214</td>\n",
       "      <td>1096.000000</td>\n",
       "      <td>4776.500000</td>\n",
       "      <td>5956.000000</td>\n",
       "    </tr>\n",
       "    <tr>\n",
       "      <th>max</th>\n",
       "      <td>731.000000</td>\n",
       "      <td>2012-12-31 00:00:00</td>\n",
       "      <td>0.861667</td>\n",
       "      <td>0.840896</td>\n",
       "      <td>0.972500</td>\n",
       "      <td>0.507463</td>\n",
       "      <td>3410.000000</td>\n",
       "      <td>6946.000000</td>\n",
       "      <td>8714.000000</td>\n",
       "    </tr>\n",
       "    <tr>\n",
       "      <th>std</th>\n",
       "      <td>211.165812</td>\n",
       "      <td>NaN</td>\n",
       "      <td>0.183051</td>\n",
       "      <td>0.162961</td>\n",
       "      <td>0.142429</td>\n",
       "      <td>0.077498</td>\n",
       "      <td>686.622488</td>\n",
       "      <td>1560.256377</td>\n",
       "      <td>1937.211452</td>\n",
       "    </tr>\n",
       "  </tbody>\n",
       "</table>\n",
       "</div>"
      ],
      "text/plain": [
       "           rec_id             datetime        temp       atemp    humidity  \\\n",
       "count  731.000000                  731  731.000000  731.000000  731.000000   \n",
       "mean   366.000000  2012-01-01 00:00:00    0.495385    0.474354    0.627894   \n",
       "min      1.000000  2011-01-01 00:00:00    0.059130    0.079070    0.000000   \n",
       "25%    183.500000  2011-07-02 12:00:00    0.337083    0.337842    0.520000   \n",
       "50%    366.000000  2012-01-01 00:00:00    0.498333    0.486733    0.626667   \n",
       "75%    548.500000  2012-07-01 12:00:00    0.655417    0.608602    0.730209   \n",
       "max    731.000000  2012-12-31 00:00:00    0.861667    0.840896    0.972500   \n",
       "std    211.165812                  NaN    0.183051    0.162961    0.142429   \n",
       "\n",
       "        windspeed       casual   registered  total_count  \n",
       "count  731.000000   731.000000   731.000000   731.000000  \n",
       "mean     0.190486   848.176471  3656.172367  4504.348837  \n",
       "min      0.022392     2.000000    20.000000    22.000000  \n",
       "25%      0.134950   315.500000  2497.000000  3152.000000  \n",
       "50%      0.180975   713.000000  3662.000000  4548.000000  \n",
       "75%      0.233214  1096.000000  4776.500000  5956.000000  \n",
       "max      0.507463  3410.000000  6946.000000  8714.000000  \n",
       "std      0.077498   686.622488  1560.256377  1937.211452  "
      ]
     },
     "execution_count": 9,
     "metadata": {},
     "output_type": "execute_result"
    }
   ],
   "source": [
    "#Summary of the dataset\n",
    "bike_df.describe()"
   ]
  },
  {
   "cell_type": "markdown",
   "metadata": {},
   "source": [
    "**Missing value analysis**"
   ]
  },
  {
   "cell_type": "markdown",
   "metadata": {},
   "source": [
    "No missing values present in training dataset."
   ]
  },
  {
   "cell_type": "code",
   "execution_count": 10,
   "metadata": {},
   "outputs": [
    {
     "data": {
      "text/plain": [
       "rec_id               0\n",
       "datetime             0\n",
       "season               0\n",
       "year                 0\n",
       "month                0\n",
       "holiday              0\n",
       "weekday              0\n",
       "workingday           0\n",
       "weather_condition    0\n",
       "temp                 0\n",
       "atemp                0\n",
       "humidity             0\n",
       "windspeed            0\n",
       "casual               0\n",
       "registered           0\n",
       "total_count          0\n",
       "dtype: int64"
      ]
     },
     "execution_count": 10,
     "metadata": {},
     "output_type": "execute_result"
    }
   ],
   "source": [
    "#Missing values in dataset\n",
    "bike_df.isnull().sum()"
   ]
  },
  {
   "cell_type": "markdown",
   "metadata": {},
   "source": [
    "**Attributes distributions and trends**"
   ]
  },
  {
   "cell_type": "markdown",
   "metadata": {},
   "source": [
    "**Monthly distribution of counts**"
   ]
  },
  {
   "cell_type": "code",
   "execution_count": 11,
   "metadata": {},
   "outputs": [
    {
     "data": {
      "image/png": "[encoded data removed]",
      "text/plain": [
       "<Figure size 1500x800 with 1 Axes>"
      ]
     },
     "metadata": {},
     "output_type": "display_data"
    },
    {
     "data": {
      "image/png": "[encoded data removed]",
      "text/plain": [
       "<Figure size 1500x800 with 1 Axes>"
      ]
     },
     "metadata": {},
     "output_type": "display_data"
    }
   ],
   "source": [
    "fig,ax=plt.subplots(figsize=(15,8))\n",
    "sns.set_style('white')\n",
    "#Bar plot for seasonwise monthly distribution of counts\n",
    "sns.barplot(x='month',y='total_count',data=bike_df[['month','total_count','season']],hue='season',ax=ax)\n",
    "ax.set_title('Seasonwise monthly distribution of counts')\n",
    "plt.show()\n",
    "#Bar plot for weekday wise monthly distribution of counts\n",
    "fig,ax1=plt.subplots(figsize=(15,8))\n",
    "sns.barplot(x='month',y='total_count',data=bike_df[['month','total_count','weekday']],hue='weekday',ax=ax1)\n",
    "ax1.set_title('Weekday wise monthly distribution of counts')\n",
    "plt.show()"
   ]
  },
  {
   "cell_type": "markdown",
   "metadata": {},
   "source": [
    "From the above plots, we can observed that increasing the bike rental count in springe and summer season and then decreasing the bike rental count in fall and winter season.\n",
    "Here, \n",
    "\n",
    "season 1-> spring season 2 -> summer season 3 -> fall season 4 -> winter"
   ]
  },
  {
   "cell_type": "markdown",
   "metadata": {},
   "source": [
    "**Yearly wise distribution of counts**"
   ]
  },
  {
   "cell_type": "code",
   "execution_count": 12,
   "metadata": {},
   "outputs": [
    {
     "data": {
      "image/png": "[encoded data removed]",
      "text/plain": [
       "<Figure size 1500x800 with 1 Axes>"
      ]
     },
     "metadata": {},
     "output_type": "display_data"
    }
   ],
   "source": [
    "fig,ax=plt.subplots(figsize=(15,8))\n",
    "#Violin plot for yearly distribution of counts\n",
    "sns.violinplot(x='year',y='total_count',data=bike_df[['year','total_count']])\n",
    "ax.set_title('Yearly distribution of counts')\n",
    "plt.show()"
   ]
  },
  {
   "cell_type": "markdown",
   "metadata": {},
   "source": [
    "From the violin plot, we can observed that the bike rental count distribution is highest in year 2012 then in year 2011. \n",
    "\n",
    "Here,  \n",
    "year 0-> 2011, year 1-> 2012"
   ]
  },
  {
   "cell_type": "markdown",
   "metadata": {},
   "source": [
    "**Holiday wise distribution of counts**"
   ]
  },
  {
   "cell_type": "code",
   "execution_count": 13,
   "metadata": {},
   "outputs": [
    {
     "data": {
      "image/png": "[encoded data removed]",
      "text/plain": [
       "<Figure size 1500x800 with 1 Axes>"
      ]
     },
     "metadata": {},
     "output_type": "display_data"
    }
   ],
   "source": [
    "fig,ax=plt.subplots(figsize=(15,8))\n",
    "#Barplot for Holiday distribution of counts\n",
    "sns.barplot(data=bike_df,x='holiday',y='total_count',hue='season')\n",
    "ax.set_title('Holiday wise distribution of counts')\n",
    "plt.show()"
   ]
  },
  {
   "cell_type": "markdown",
   "metadata": {},
   "source": [
    "From the above bar plot, we can observed that during no holiday the bike rental counts is highest compared to during holiday for different seasons.\n",
    "\n",
    "Here, 0->No holiday, 1-> holiday"
   ]
  },
  {
   "cell_type": "markdown",
   "metadata": {},
   "source": [
    "**Workingday wise distribution of counts**"
   ]
  },
  {
   "cell_type": "code",
   "execution_count": 14,
   "metadata": {},
   "outputs": [
    {
     "data": {
      "image/png": "[encoded data removed]",
      "text/plain": [
       "<Figure size 1500x800 with 1 Axes>"
      ]
     },
     "metadata": {},
     "output_type": "display_data"
    }
   ],
   "source": [
    "fig,ax=plt.subplots(figsize=(15,8))\n",
    "#Bar plot for workingday distribution of counts\n",
    "sns.barplot(data=bike_df,x='workingday',y='total_count',hue='season')\n",
    "ax.set_title('Workingday wise distribution of counts')\n",
    "plt.show()"
   ]
  },
  {
   "cell_type": "markdown",
   "metadata": {},
   "source": [
    "From the above bar plot, we can observed that during workingday the bike rental counts is quite highest compared to during no workingday for different seasons.\n",
    "\n",
    "Here, 0-> No workingday, 1-> workingday"
   ]
  },
  {
   "cell_type": "markdown",
   "metadata": {},
   "source": [
    "**Weather_condition distribution of counts**"
   ]
  },
  {
   "cell_type": "code",
   "execution_count": 15,
   "metadata": {},
   "outputs": [
    {
     "data": {
      "image/png": "[encoded data removed]",
      "text/plain": [
       "<Figure size 1500x800 with 1 Axes>"
      ]
     },
     "metadata": {},
     "output_type": "display_data"
    }
   ],
   "source": [
    "fig,ax1=plt.subplots(figsize=(15,8))\n",
    "#Bar plot for weather_condition distribution of counts\n",
    "sns.barplot(x='weather_condition',y='total_count',data=bike_df[['month','total_count','weather_condition']],ax=ax1)\n",
    "ax1.set_title('Weather_condition wise monthly distribution of counts')\n",
    "plt.show()"
   ]
  },
  {
   "cell_type": "markdown",
   "metadata": {},
   "source": [
    "From the above bar plot, we can observed that during clear,partly cloudy weather the bike rental count is highest and the second highest is during mist cloudy weather and followed by third highest during light snow and light rain weather."
   ]
  },
  {
   "cell_type": "markdown",
   "metadata": {},
   "source": [
    "**Outlier analysis**"
   ]
  },
  {
   "cell_type": "markdown",
   "metadata": {},
   "source": [
    "**Total_Count_Outliers**"
   ]
  },
  {
   "cell_type": "code",
   "execution_count": 16,
   "metadata": {},
   "outputs": [
    {
     "data": {
      "image/png": "[encoded data removed]",
      "text/plain": [
       "<Figure size 1500x800 with 1 Axes>"
      ]
     },
     "metadata": {},
     "output_type": "display_data"
    }
   ],
   "source": [
    "fig,ax=plt.subplots(figsize=(15,8))\n",
    "#Boxplot for total_count outliers\n",
    "sns.boxplot(data=bike_df[['total_count']])\n",
    "ax.set_title('total_count outliers')\n",
    "plt.show()"
   ]
  },
  {
   "cell_type": "markdown",
   "metadata": {},
   "source": [
    "From the box plot, we can observed that no outliers are present in total_count variable."
   ]
  },
  {
   "cell_type": "markdown",
   "metadata": {},
   "source": [
    "**Temp_windspeed_humidity_outliers**"
   ]
  },
  {
   "cell_type": "code",
   "execution_count": 17,
   "metadata": {},
   "outputs": [
    {
     "data": {
      "image/png": "[encoded data removed]",
      "text/plain": [
       "<Figure size 1500x800 with 1 Axes>"
      ]
     },
     "metadata": {},
     "output_type": "display_data"
    }
   ],
   "source": [
    "fig,ax=plt.subplots(figsize=(15,8))\n",
    "#Box plot for Temp_windspeed_humidity_outliers\n",
    "sns.boxplot(data=bike_df[['temp','windspeed','humidity']])\n",
    "ax.set_title('Temp_windspeed_humidity_outiers')\n",
    "plt.show()"
   ]
  },
  {
   "cell_type": "markdown",
   "metadata": {},
   "source": [
    "From the box plot, we can observed that no outliers are present in normalized temp but few outliers are present in normalized windspeed and humidity variable."
   ]
  },
  {
   "cell_type": "markdown",
   "metadata": {},
   "source": [
    "**Replace and impute the outliers**"
   ]
  },
  {
   "cell_type": "code",
   "execution_count": 21,
   "metadata": {},
   "outputs": [],
   "source": [
    "from fancyimpute import KNN\n",
    "\n",
    "#create dataframe for outliers\n",
    "wind_hum=pd.DataFrame(bike_df,columns=['windspeed','humidity'])\n",
    " #Cnames for outliers                     \n",
    "cnames=['windspeed','humidity']       \n",
    "                      \n",
    "for i in cnames:\n",
    "    q75,q25=np.percentile(wind_hum.loc[:,i],[75,25]) # Divide data into 75%quantile and 25%quantile.\n",
    "    iqr=q75-q25 #Inter quantile range\n",
    "    min=q25-(iqr*1.5) #inner fence\n",
    "    max=q75+(iqr*1.5) #outer fence\n",
    "    wind_hum.loc[wind_hum.loc[:,i]<min,:i]=np.nan  #Replace with NA\n",
    "    wind_hum.loc[wind_hum.loc[:,i]>max,:i]=np.nan  #Replace with NA\n",
    "#Imputating the outliers by mean Imputation\n",
    "wind_hum['windspeed']=wind_hum['windspeed'].fillna(wind_hum['windspeed'].mean())\n",
    "wind_hum['humidity']=wind_hum['humidity'].fillna(wind_hum['humidity'].mean())"
   ]
  },
  {
   "cell_type": "markdown",
   "metadata": {},
   "source": [
    "**Replace the original dataset to imputated data**"
   ]
  },
  {
   "cell_type": "code",
   "execution_count": 22,
   "metadata": {},
   "outputs": [
    {
     "data": {
      "text/html": [
       "<div>\n",
       "<style scoped>\n",
       "    .dataframe tbody tr th:only-of-type {\n",
       "        vertical-align: middle;\n",
       "    }\n",
       "\n",
       "    .dataframe tbody tr th {\n",
       "        vertical-align: top;\n",
       "    }\n",
       "\n",
       "    .dataframe thead th {\n",
       "        text-align: right;\n",
       "    }\n",
       "</style>\n",
       "<table border=\"1\" class=\"dataframe\">\n",
       "  <thead>\n",
       "    <tr style=\"text-align: right;\">\n",
       "      <th></th>\n",
       "      <th>rec_id</th>\n",
       "      <th>datetime</th>\n",
       "      <th>season</th>\n",
       "      <th>year</th>\n",
       "      <th>month</th>\n",
       "      <th>holiday</th>\n",
       "      <th>weekday</th>\n",
       "      <th>workingday</th>\n",
       "      <th>weather_condition</th>\n",
       "      <th>temp</th>\n",
       "      <th>atemp</th>\n",
       "      <th>humidity</th>\n",
       "      <th>windspeed</th>\n",
       "      <th>casual</th>\n",
       "      <th>registered</th>\n",
       "      <th>total_count</th>\n",
       "    </tr>\n",
       "  </thead>\n",
       "  <tbody>\n",
       "    <tr>\n",
       "      <th>0</th>\n",
       "      <td>1</td>\n",
       "      <td>2011-01-01</td>\n",
       "      <td>1</td>\n",
       "      <td>0</td>\n",
       "      <td>1</td>\n",
       "      <td>0</td>\n",
       "      <td>6</td>\n",
       "      <td>0</td>\n",
       "      <td>2</td>\n",
       "      <td>0.344167</td>\n",
       "      <td>0.363625</td>\n",
       "      <td>0.805833</td>\n",
       "      <td>0.160446</td>\n",
       "      <td>331</td>\n",
       "      <td>654</td>\n",
       "      <td>985</td>\n",
       "    </tr>\n",
       "    <tr>\n",
       "      <th>1</th>\n",
       "      <td>2</td>\n",
       "      <td>2011-01-02</td>\n",
       "      <td>1</td>\n",
       "      <td>0</td>\n",
       "      <td>1</td>\n",
       "      <td>0</td>\n",
       "      <td>0</td>\n",
       "      <td>0</td>\n",
       "      <td>2</td>\n",
       "      <td>0.363478</td>\n",
       "      <td>0.353739</td>\n",
       "      <td>0.696087</td>\n",
       "      <td>0.248539</td>\n",
       "      <td>131</td>\n",
       "      <td>670</td>\n",
       "      <td>801</td>\n",
       "    </tr>\n",
       "    <tr>\n",
       "      <th>2</th>\n",
       "      <td>3</td>\n",
       "      <td>2011-01-03</td>\n",
       "      <td>1</td>\n",
       "      <td>0</td>\n",
       "      <td>1</td>\n",
       "      <td>0</td>\n",
       "      <td>1</td>\n",
       "      <td>1</td>\n",
       "      <td>1</td>\n",
       "      <td>0.196364</td>\n",
       "      <td>0.189405</td>\n",
       "      <td>0.437273</td>\n",
       "      <td>0.248309</td>\n",
       "      <td>120</td>\n",
       "      <td>1229</td>\n",
       "      <td>1349</td>\n",
       "    </tr>\n",
       "    <tr>\n",
       "      <th>3</th>\n",
       "      <td>4</td>\n",
       "      <td>2011-01-04</td>\n",
       "      <td>1</td>\n",
       "      <td>0</td>\n",
       "      <td>1</td>\n",
       "      <td>0</td>\n",
       "      <td>2</td>\n",
       "      <td>1</td>\n",
       "      <td>1</td>\n",
       "      <td>0.200000</td>\n",
       "      <td>0.212122</td>\n",
       "      <td>0.590435</td>\n",
       "      <td>0.160296</td>\n",
       "      <td>108</td>\n",
       "      <td>1454</td>\n",
       "      <td>1562</td>\n",
       "    </tr>\n",
       "    <tr>\n",
       "      <th>4</th>\n",
       "      <td>5</td>\n",
       "      <td>2011-01-05</td>\n",
       "      <td>1</td>\n",
       "      <td>0</td>\n",
       "      <td>1</td>\n",
       "      <td>0</td>\n",
       "      <td>3</td>\n",
       "      <td>1</td>\n",
       "      <td>1</td>\n",
       "      <td>0.226957</td>\n",
       "      <td>0.229270</td>\n",
       "      <td>0.436957</td>\n",
       "      <td>0.186900</td>\n",
       "      <td>82</td>\n",
       "      <td>1518</td>\n",
       "      <td>1600</td>\n",
       "    </tr>\n",
       "  </tbody>\n",
       "</table>\n",
       "</div>"
      ],
      "text/plain": [
       "   rec_id   datetime season year month holiday weekday workingday  \\\n",
       "0       1 2011-01-01      1    0     1       0       6          0   \n",
       "1       2 2011-01-02      1    0     1       0       0          0   \n",
       "2       3 2011-01-03      1    0     1       0       1          1   \n",
       "3       4 2011-01-04      1    0     1       0       2          1   \n",
       "4       5 2011-01-05      1    0     1       0       3          1   \n",
       "\n",
       "  weather_condition      temp     atemp  humidity  windspeed  casual  \\\n",
       "0                 2  0.344167  0.363625  0.805833   0.160446     331   \n",
       "1                 2  0.363478  0.353739  0.696087   0.248539     131   \n",
       "2                 1  0.196364  0.189405  0.437273   0.248309     120   \n",
       "3                 1  0.200000  0.212122  0.590435   0.160296     108   \n",
       "4                 1  0.226957  0.229270  0.436957   0.186900      82   \n",
       "\n",
       "   registered  total_count  \n",
       "0         654          985  \n",
       "1         670          801  \n",
       "2        1229         1349  \n",
       "3        1454         1562  \n",
       "4        1518         1600  "
      ]
     },
     "execution_count": 22,
     "metadata": {},
     "output_type": "execute_result"
    }
   ],
   "source": [
    "#Replacing the imputated windspeed\n",
    "bike_df['windspeed']=bike_df['windspeed'].replace(wind_hum['windspeed'])\n",
    "#Replacing the imputated humidity\n",
    "bike_df['humidity']=bike_df['humidity'].replace(wind_hum['humidity'])\n",
    "bike_df.head(5)"
   ]
  },
  {
   "cell_type": "markdown",
   "metadata": {},
   "source": [
    "**Normal Probability Plot**"
   ]
  },
  {
   "cell_type": "markdown",
   "metadata": {},
   "source": [
    "Normal probability plot is a graphical technique to identify substantive departures from normality and also it tells about goodness of fit."
   ]
  },
  {
   "cell_type": "code",
   "execution_count": 23,
   "metadata": {},
   "outputs": [
    {
     "data": {
      "image/png": "[encoded data removed]",
      "text/plain": [
       "<Figure size 1500x800 with 1 Axes>"
      ]
     },
     "metadata": {},
     "output_type": "display_data"
    }
   ],
   "source": [
    "import scipy\n",
    "from scipy import stats\n",
    "#Normal plot\n",
    "fig=plt.figure(figsize=(15,8))\n",
    "stats.probplot(bike_df.total_count.tolist(),dist='norm',plot=plt)\n",
    "plt.show()"
   ]
  },
  {
   "cell_type": "markdown",
   "metadata": {},
   "source": [
    "The above probability plot, the some target variable data points are deviates from normality."
   ]
  },
  {
   "cell_type": "markdown",
   "metadata": {},
   "source": [
    "**Correlation matrix**"
   ]
  },
  {
   "cell_type": "markdown",
   "metadata": {},
   "source": [
    "Correlation matrix is tells about linear relationship between attributes and help us to build better models."
   ]
  },
  {
   "cell_type": "code",
   "execution_count": 24,
   "metadata": {},
   "outputs": [
    {
     "data": {
      "image/png": "[encoded data removed]",
      "text/plain": [
       "<Figure size 1500x800 with 2 Axes>"
      ]
     },
     "metadata": {},
     "output_type": "display_data"
    }
   ],
   "source": [
    "#Create the correlation matrix\n",
    "correMtr=bike_df[[\"temp\",\"atemp\",\"humidity\",\"windspeed\",\"casual\",\"registered\",\"total_count\"]].corr()\n",
    "mask=np.array(correMtr)\n",
    "mask[np.tril_indices_from(mask)]=False\n",
    "#Heat map for correlation matrix of attributes\n",
    "fig,ax=plt.subplots(figsize=(15,8))\n",
    "sns.heatmap(correMtr,mask=mask,vmax=0.8,square=True,annot=True,ax=ax)\n",
    "ax.set_title('Correlation matrix of attributes')\n",
    "plt.show()"
   ]
  },
  {
   "cell_type": "markdown",
   "metadata": {},
   "source": [
    "From correlation plot, we can observed that some features are positively correlated or some are negatively correlated to each other. The temp and atemp are highly positively correlated to each other, it means that both are carrying same information.The total_count,casual and registered are highly positively correlated to each other. So, we are going to ignore atemp,casual and registered variable for further analysis."
   ]
  },
  {
   "cell_type": "markdown",
   "metadata": {},
   "source": [
    "**Modelling the dataset**"
   ]
  },
  {
   "cell_type": "code",
   "execution_count": 25,
   "metadata": {},
   "outputs": [],
   "source": [
    "#load the required libraries\n",
    "from sklearn import preprocessing,metrics,linear_model\n",
    "from sklearn.model_selection import cross_val_score,cross_val_predict,train_test_split"
   ]
  },
  {
   "cell_type": "markdown",
   "metadata": {},
   "source": [
    "Split the dataset into train and test in the ratio of 70:30"
   ]
  },
  {
   "cell_type": "code",
   "execution_count": 26,
   "metadata": {},
   "outputs": [
    {
     "name": "stdout",
     "output_type": "stream",
     "text": [
      "(511, 14) (220, 14) (511, 2) (220, 2)\n",
      "   index  total_count\n",
      "0    223         4905\n",
      "1    684         5445\n",
      "2    685         5698\n",
      "3    163         5020\n",
      "4    394         3624\n",
      "   index  total_count\n",
      "0    703         6606\n",
      "1     33         1550\n",
      "2    300         3747\n",
      "3    456         6041\n",
      "4    633         7538\n"
     ]
    }
   ],
   "source": [
    "#Split the dataset into the train and test data\n",
    "from sklearn.model_selection import train_test_split\n",
    "X_train,X_test,y_train,y_test=train_test_split(bike_df.iloc[:,0:-3],bike_df.iloc[:,-1],test_size=0.3, random_state=42)\n",
    "\n",
    "#Reset train index values\n",
    "X_train.reset_index(inplace=True)\n",
    "y_train=y_train.reset_index()\n",
    "\n",
    "# Reset train index values\n",
    "X_test.reset_index(inplace=True)\n",
    "y_test=y_test.reset_index()\n",
    "\n",
    "print(X_train.shape,X_test.shape,y_train.shape,y_test.shape)\n",
    "print(y_train.head())\n",
    "print(y_test.head())"
   ]
  },
  {
   "cell_type": "markdown",
   "metadata": {},
   "source": [
    "**Split the features into categorical and numerical features**"
   ]
  },
  {
   "cell_type": "code",
   "execution_count": 27,
   "metadata": {},
   "outputs": [],
   "source": [
    "#Create a new dataset for train attributes\n",
    "train_attributes=X_train[['season','month','year','weekday','holiday','workingday','weather_condition','humidity','temp','windspeed']]\n",
    "#Create a new dataset for test attributes\n",
    "test_attributes=X_test[['season','month','year','weekday','holiday','workingday','humidity','temp','windspeed','weather_condition']]\n",
    "#categorical attributes\n",
    "cat_attributes=['season','holiday','workingday','weather_condition','year']\n",
    "#numerical attributes\n",
    "num_attributes=['temp','windspeed','humidity','month','weekday']"
   ]
  },
  {
   "cell_type": "markdown",
   "metadata": {},
   "source": [
    "**Decoding the training attributes**"
   ]
  },
  {
   "cell_type": "code",
   "execution_count": 28,
   "metadata": {},
   "outputs": [
    {
     "name": "stdout",
     "output_type": "stream",
     "text": [
      "Shape of transfomed dataframe:: (511, 18)\n"
     ]
    },
    {
     "data": {
      "text/html": [
       "<div>\n",
       "<style scoped>\n",
       "    .dataframe tbody tr th:only-of-type {\n",
       "        vertical-align: middle;\n",
       "    }\n",
       "\n",
       "    .dataframe tbody tr th {\n",
       "        vertical-align: top;\n",
       "    }\n",
       "\n",
       "    .dataframe thead th {\n",
       "        text-align: right;\n",
       "    }\n",
       "</style>\n",
       "<table border=\"1\" class=\"dataframe\">\n",
       "  <thead>\n",
       "    <tr style=\"text-align: right;\">\n",
       "      <th></th>\n",
       "      <th>month</th>\n",
       "      <th>weekday</th>\n",
       "      <th>humidity</th>\n",
       "      <th>temp</th>\n",
       "      <th>windspeed</th>\n",
       "      <th>season_1</th>\n",
       "      <th>season_2</th>\n",
       "      <th>season_3</th>\n",
       "      <th>season_4</th>\n",
       "      <th>holiday_0</th>\n",
       "      <th>holiday_1</th>\n",
       "      <th>workingday_0</th>\n",
       "      <th>workingday_1</th>\n",
       "      <th>weather_condition_1</th>\n",
       "      <th>weather_condition_2</th>\n",
       "      <th>weather_condition_3</th>\n",
       "      <th>year_0</th>\n",
       "      <th>year_1</th>\n",
       "    </tr>\n",
       "  </thead>\n",
       "  <tbody>\n",
       "    <tr>\n",
       "      <th>0</th>\n",
       "      <td>8</td>\n",
       "      <td>5</td>\n",
       "      <td>0.415000</td>\n",
       "      <td>0.708333</td>\n",
       "      <td>0.125621</td>\n",
       "      <td>False</td>\n",
       "      <td>False</td>\n",
       "      <td>True</td>\n",
       "      <td>False</td>\n",
       "      <td>True</td>\n",
       "      <td>False</td>\n",
       "      <td>False</td>\n",
       "      <td>True</td>\n",
       "      <td>True</td>\n",
       "      <td>False</td>\n",
       "      <td>False</td>\n",
       "      <td>True</td>\n",
       "      <td>False</td>\n",
       "    </tr>\n",
       "    <tr>\n",
       "      <th>1</th>\n",
       "      <td>11</td>\n",
       "      <td>4</td>\n",
       "      <td>0.620417</td>\n",
       "      <td>0.321667</td>\n",
       "      <td>0.152987</td>\n",
       "      <td>False</td>\n",
       "      <td>False</td>\n",
       "      <td>False</td>\n",
       "      <td>True</td>\n",
       "      <td>True</td>\n",
       "      <td>False</td>\n",
       "      <td>False</td>\n",
       "      <td>True</td>\n",
       "      <td>False</td>\n",
       "      <td>True</td>\n",
       "      <td>False</td>\n",
       "      <td>False</td>\n",
       "      <td>True</td>\n",
       "    </tr>\n",
       "    <tr>\n",
       "      <th>2</th>\n",
       "      <td>11</td>\n",
       "      <td>5</td>\n",
       "      <td>0.524583</td>\n",
       "      <td>0.345000</td>\n",
       "      <td>0.171025</td>\n",
       "      <td>False</td>\n",
       "      <td>False</td>\n",
       "      <td>False</td>\n",
       "      <td>True</td>\n",
       "      <td>True</td>\n",
       "      <td>False</td>\n",
       "      <td>False</td>\n",
       "      <td>True</td>\n",
       "      <td>True</td>\n",
       "      <td>False</td>\n",
       "      <td>False</td>\n",
       "      <td>False</td>\n",
       "      <td>True</td>\n",
       "    </tr>\n",
       "    <tr>\n",
       "      <th>3</th>\n",
       "      <td>6</td>\n",
       "      <td>1</td>\n",
       "      <td>0.494583</td>\n",
       "      <td>0.635000</td>\n",
       "      <td>0.305350</td>\n",
       "      <td>False</td>\n",
       "      <td>True</td>\n",
       "      <td>False</td>\n",
       "      <td>False</td>\n",
       "      <td>True</td>\n",
       "      <td>False</td>\n",
       "      <td>False</td>\n",
       "      <td>True</td>\n",
       "      <td>True</td>\n",
       "      <td>False</td>\n",
       "      <td>False</td>\n",
       "      <td>True</td>\n",
       "      <td>False</td>\n",
       "    </tr>\n",
       "    <tr>\n",
       "      <th>4</th>\n",
       "      <td>1</td>\n",
       "      <td>1</td>\n",
       "      <td>0.400833</td>\n",
       "      <td>0.269167</td>\n",
       "      <td>0.215792</td>\n",
       "      <td>True</td>\n",
       "      <td>False</td>\n",
       "      <td>False</td>\n",
       "      <td>False</td>\n",
       "      <td>True</td>\n",
       "      <td>False</td>\n",
       "      <td>False</td>\n",
       "      <td>True</td>\n",
       "      <td>True</td>\n",
       "      <td>False</td>\n",
       "      <td>False</td>\n",
       "      <td>False</td>\n",
       "      <td>True</td>\n",
       "    </tr>\n",
       "  </tbody>\n",
       "</table>\n",
       "</div>"
      ],
      "text/plain": [
       "  month weekday  humidity      temp  windspeed  season_1  season_2  season_3  \\\n",
       "0     8       5  0.415000  0.708333   0.125621     False     False      True   \n",
       "1    11       4  0.620417  0.321667   0.152987     False     False     False   \n",
       "2    11       5  0.524583  0.345000   0.171025     False     False     False   \n",
       "3     6       1  0.494583  0.635000   0.305350     False      True     False   \n",
       "4     1       1  0.400833  0.269167   0.215792      True     False     False   \n",
       "\n",
       "   season_4  holiday_0  holiday_1  workingday_0  workingday_1  \\\n",
       "0     False       True      False         False          True   \n",
       "1      True       True      False         False          True   \n",
       "2      True       True      False         False          True   \n",
       "3     False       True      False         False          True   \n",
       "4     False       True      False         False          True   \n",
       "\n",
       "   weather_condition_1  weather_condition_2  weather_condition_3  year_0  \\\n",
       "0                 True                False                False    True   \n",
       "1                False                 True                False   False   \n",
       "2                 True                False                False   False   \n",
       "3                 True                False                False    True   \n",
       "4                 True                False                False   False   \n",
       "\n",
       "   year_1  \n",
       "0   False  \n",
       "1    True  \n",
       "2    True  \n",
       "3   False  \n",
       "4    True  "
      ]
     },
     "execution_count": 28,
     "metadata": {},
     "output_type": "execute_result"
    }
   ],
   "source": [
    "#To get dummy variables to encode the categorical features to numeric\n",
    "train_encoded_attributes=pd.get_dummies(train_attributes,columns=cat_attributes)\n",
    "print('Shape of transfomed dataframe::',train_encoded_attributes.shape)\n",
    "train_encoded_attributes.head(5)"
   ]
  },
  {
   "cell_type": "markdown",
   "metadata": {},
   "source": [
    "**Training dataset**"
   ]
  },
  {
   "cell_type": "code",
   "execution_count": 29,
   "metadata": {},
   "outputs": [],
   "source": [
    "#Training dataset for modelling\n",
    "X_train=train_encoded_attributes\n",
    "y_train=y_train.total_count.values"
   ]
  },
  {
   "cell_type": "markdown",
   "metadata": {},
   "source": [
    "**Linear Regression Model**"
   ]
  },
  {
   "cell_type": "code",
   "execution_count": 30,
   "metadata": {},
   "outputs": [
    {
     "data": {
      "text/html": [
       "<style>#sk-container-id-1 {color: black;background-color: white;}#sk-container-id-1 pre{padding: 0;}#sk-container-id-1 div.sk-toggleable {background-color: white;}#sk-container-id-1 label.sk-toggleable__label {cursor: pointer;display: block;width: 100%;margin-bottom: 0;padding: 0.3em;box-sizing: border-box;text-align: center;}#sk-container-id-1 label.sk-toggleable__label-arrow:before {content: \"▸\";float: left;margin-right: 0.25em;color: #696969;}#sk-container-id-1 label.sk-toggleable__label-arrow:hover:before {color: black;}#sk-container-id-1 div.sk-estimator:hover label.sk-toggleable__label-arrow:before {color: black;}#sk-container-id-1 div.sk-toggleable__content {max-height: 0;max-width: 0;overflow: hidden;text-align: left;background-color: #f0f8ff;}#sk-container-id-1 div.sk-toggleable__content pre {margin: 0.2em;color: black;border-radius: 0.25em;background-color: #f0f8ff;}#sk-container-id-1 input.sk-toggleable__control:checked~div.sk-toggleable__content {max-height: 200px;max-width: 100%;overflow: auto;}#sk-container-id-1 input.sk-toggleable__control:checked~label.sk-toggleable__label-arrow:before {content: \"▾\";}#sk-container-id-1 div.sk-estimator input.sk-toggleable__control:checked~label.sk-toggleable__label {background-color: #d4ebff;}#sk-container-id-1 div.sk-label input.sk-toggleable__control:checked~label.sk-toggleable__label {background-color: #d4ebff;}#sk-container-id-1 input.sk-hidden--visually {border: 0;clip: rect(1px 1px 1px 1px);clip: rect(1px, 1px, 1px, 1px);height: 1px;margin: -1px;overflow: hidden;padding: 0;position: absolute;width: 1px;}#sk-container-id-1 div.sk-estimator {font-family: monospace;background-color: #f0f8ff;border: 1px dotted black;border-radius: 0.25em;box-sizing: border-box;margin-bottom: 0.5em;}#sk-container-id-1 div.sk-estimator:hover {background-color: #d4ebff;}#sk-container-id-1 div.sk-parallel-item::after {content: \"\";width: 100%;border-bottom: 1px solid gray;flex-grow: 1;}#sk-container-id-1 div.sk-label:hover label.sk-toggleable__label {background-color: #d4ebff;}#sk-container-id-1 div.sk-serial::before {content: \"\";position: absolute;border-left: 1px solid gray;box-sizing: border-box;top: 0;bottom: 0;left: 50%;z-index: 0;}#sk-container-id-1 div.sk-serial {display: flex;flex-direction: column;align-items: center;background-color: white;padding-right: 0.2em;padding-left: 0.2em;position: relative;}#sk-container-id-1 div.sk-item {position: relative;z-index: 1;}#sk-container-id-1 div.sk-parallel {display: flex;align-items: stretch;justify-content: center;background-color: white;position: relative;}#sk-container-id-1 div.sk-item::before, #sk-container-id-1 div.sk-parallel-item::before {content: \"\";position: absolute;border-left: 1px solid gray;box-sizing: border-box;top: 0;bottom: 0;left: 50%;z-index: -1;}#sk-container-id-1 div.sk-parallel-item {display: flex;flex-direction: column;z-index: 1;position: relative;background-color: white;}#sk-container-id-1 div.sk-parallel-item:first-child::after {align-self: flex-end;width: 50%;}#sk-container-id-1 div.sk-parallel-item:last-child::after {align-self: flex-start;width: 50%;}#sk-container-id-1 div.sk-parallel-item:only-child::after {width: 0;}#sk-container-id-1 div.sk-dashed-wrapped {border: 1px dashed gray;margin: 0 0.4em 0.5em 0.4em;box-sizing: border-box;padding-bottom: 0.4em;background-color: white;}#sk-container-id-1 div.sk-label label {font-family: monospace;font-weight: bold;display: inline-block;line-height: 1.2em;}#sk-container-id-1 div.sk-label-container {text-align: center;}#sk-container-id-1 div.sk-container {/* jupyter's `normalize.less` sets `[hidden] { display: none; }` but bootstrap.min.css set `[hidden] { display: none !important; }` so we also need the `!important` here to be able to override the default hidden behavior on the sphinx rendered scikit-learn.org. See: https://github.com/scikit-learn/scikit-learn/issues/21755 */display: inline-block !important;position: relative;}#sk-container-id-1 div.sk-text-repr-fallback {display: none;}</style><div id=\"sk-container-id-1\" class=\"sk-top-container\"><div class=\"sk-text-repr-fallback\"><pre>LinearRegression()</pre><b>In a Jupyter environment, please rerun this cell to show the HTML representation or trust the notebook. <br />On GitHub, the HTML representation is unable to render, please try loading this page with nbviewer.org.</b></div><div class=\"sk-container\" hidden><div class=\"sk-item\"><div class=\"sk-estimator sk-toggleable\"><input class=\"sk-toggleable__control sk-hidden--visually\" id=\"sk-estimator-id-1\" type=\"checkbox\" checked><label for=\"sk-estimator-id-1\" class=\"sk-toggleable__label sk-toggleable__label-arrow\">LinearRegression</label><div class=\"sk-toggleable__content\"><pre>LinearRegression()</pre></div></div></div></div></div>"
      ],
      "text/plain": [
       "LinearRegression()"
      ]
     },
     "execution_count": 30,
     "metadata": {},
     "output_type": "execute_result"
    }
   ],
   "source": [
    "#training model\n",
    "lr_model=linear_model.LinearRegression()\n",
    "lr_model"
   ]
  },
  {
   "cell_type": "markdown",
   "metadata": {},
   "source": [
    "**fit the training model**"
   ]
  },
  {
   "cell_type": "code",
   "execution_count": 31,
   "metadata": {},
   "outputs": [
    {
     "data": {
      "text/html": [
       "<style>#sk-container-id-2 {color: black;background-color: white;}#sk-container-id-2 pre{padding: 0;}#sk-container-id-2 div.sk-toggleable {background-color: white;}#sk-container-id-2 label.sk-toggleable__label {cursor: pointer;display: block;width: 100%;margin-bottom: 0;padding: 0.3em;box-sizing: border-box;text-align: center;}#sk-container-id-2 label.sk-toggleable__label-arrow:before {content: \"▸\";float: left;margin-right: 0.25em;color: #696969;}#sk-container-id-2 label.sk-toggleable__label-arrow:hover:before {color: black;}#sk-container-id-2 div.sk-estimator:hover label.sk-toggleable__label-arrow:before {color: black;}#sk-container-id-2 div.sk-toggleable__content {max-height: 0;max-width: 0;overflow: hidden;text-align: left;background-color: #f0f8ff;}#sk-container-id-2 div.sk-toggleable__content pre {margin: 0.2em;color: black;border-radius: 0.25em;background-color: #f0f8ff;}#sk-container-id-2 input.sk-toggleable__control:checked~div.sk-toggleable__content {max-height: 200px;max-width: 100%;overflow: auto;}#sk-container-id-2 input.sk-toggleable__control:checked~label.sk-toggleable__label-arrow:before {content: \"▾\";}#sk-container-id-2 div.sk-estimator input.sk-toggleable__control:checked~label.sk-toggleable__label {background-color: #d4ebff;}#sk-container-id-2 div.sk-label input.sk-toggleable__control:checked~label.sk-toggleable__label {background-color: #d4ebff;}#sk-container-id-2 input.sk-hidden--visually {border: 0;clip: rect(1px 1px 1px 1px);clip: rect(1px, 1px, 1px, 1px);height: 1px;margin: -1px;overflow: hidden;padding: 0;position: absolute;width: 1px;}#sk-container-id-2 div.sk-estimator {font-family: monospace;background-color: #f0f8ff;border: 1px dotted black;border-radius: 0.25em;box-sizing: border-box;margin-bottom: 0.5em;}#sk-container-id-2 div.sk-estimator:hover {background-color: #d4ebff;}#sk-container-id-2 div.sk-parallel-item::after {content: \"\";width: 100%;border-bottom: 1px solid gray;flex-grow: 1;}#sk-container-id-2 div.sk-label:hover label.sk-toggleable__label {background-color: #d4ebff;}#sk-container-id-2 div.sk-serial::before {content: \"\";position: absolute;border-left: 1px solid gray;box-sizing: border-box;top: 0;bottom: 0;left: 50%;z-index: 0;}#sk-container-id-2 div.sk-serial {display: flex;flex-direction: column;align-items: center;background-color: white;padding-right: 0.2em;padding-left: 0.2em;position: relative;}#sk-container-id-2 div.sk-item {position: relative;z-index: 1;}#sk-container-id-2 div.sk-parallel {display: flex;align-items: stretch;justify-content: center;background-color: white;position: relative;}#sk-container-id-2 div.sk-item::before, #sk-container-id-2 div.sk-parallel-item::before {content: \"\";position: absolute;border-left: 1px solid gray;box-sizing: border-box;top: 0;bottom: 0;left: 50%;z-index: -1;}#sk-container-id-2 div.sk-parallel-item {display: flex;flex-direction: column;z-index: 1;position: relative;background-color: white;}#sk-container-id-2 div.sk-parallel-item:first-child::after {align-self: flex-end;width: 50%;}#sk-container-id-2 div.sk-parallel-item:last-child::after {align-self: flex-start;width: 50%;}#sk-container-id-2 div.sk-parallel-item:only-child::after {width: 0;}#sk-container-id-2 div.sk-dashed-wrapped {border: 1px dashed gray;margin: 0 0.4em 0.5em 0.4em;box-sizing: border-box;padding-bottom: 0.4em;background-color: white;}#sk-container-id-2 div.sk-label label {font-family: monospace;font-weight: bold;display: inline-block;line-height: 1.2em;}#sk-container-id-2 div.sk-label-container {text-align: center;}#sk-container-id-2 div.sk-container {/* jupyter's `normalize.less` sets `[hidden] { display: none; }` but bootstrap.min.css set `[hidden] { display: none !important; }` so we also need the `!important` here to be able to override the default hidden behavior on the sphinx rendered scikit-learn.org. See: https://github.com/scikit-learn/scikit-learn/issues/21755 */display: inline-block !important;position: relative;}#sk-container-id-2 div.sk-text-repr-fallback {display: none;}</style><div id=\"sk-container-id-2\" class=\"sk-top-container\"><div class=\"sk-text-repr-fallback\"><pre>LinearRegression()</pre><b>In a Jupyter environment, please rerun this cell to show the HTML representation or trust the notebook. <br />On GitHub, the HTML representation is unable to render, please try loading this page with nbviewer.org.</b></div><div class=\"sk-container\" hidden><div class=\"sk-item\"><div class=\"sk-estimator sk-toggleable\"><input class=\"sk-toggleable__control sk-hidden--visually\" id=\"sk-estimator-id-2\" type=\"checkbox\" checked><label for=\"sk-estimator-id-2\" class=\"sk-toggleable__label sk-toggleable__label-arrow\">LinearRegression</label><div class=\"sk-toggleable__content\"><pre>LinearRegression()</pre></div></div></div></div></div>"
      ],
      "text/plain": [
       "LinearRegression()"
      ]
     },
     "execution_count": 31,
     "metadata": {},
     "output_type": "execute_result"
    }
   ],
   "source": [
    "#fit the trained model\n",
    "lr_model.fit(X_train,y_train)"
   ]
  },
  {
   "cell_type": "markdown",
   "metadata": {},
   "source": [
    "**Accuracy of model**"
   ]
  },
  {
   "cell_type": "code",
   "execution_count": 32,
   "metadata": {},
   "outputs": [
    {
     "name": "stdout",
     "output_type": "stream",
     "text": [
      "Accuracy of the model : 0.8165025087335218\n",
      "Model coefficients : [  -25.40093273    69.00041734 -1021.83801516  5265.83269167\n",
      " -2556.15204574  -949.34444399   229.82675107   -79.72789531\n",
      "   799.24558823   228.48467064  -228.48467064   -78.95445063\n",
      "    78.95445063   761.85445399   252.23446226 -1014.08891625\n",
      "  -989.30080604   989.30080604]\n",
      "Model intercept value : 2195.3105623488495\n"
     ]
    }
   ],
   "source": [
    "#Accuracy of the model\n",
    "lr=lr_model.score(X_train,y_train)\n",
    "print('Accuracy of the model :',lr)\n",
    "print('Model coefficients :',lr_model.coef_)\n",
    "print('Model intercept value :',lr_model.intercept_)"
   ]
  },
  {
   "cell_type": "markdown",
   "metadata": {},
   "source": [
    "**Cross validation prediction**"
   ]
  },
  {
   "cell_type": "code",
   "execution_count": 33,
   "metadata": {},
   "outputs": [
    {
     "data": {
      "text/plain": [
       "array([ 5248.7578435 ,  5038.5615668 ,  5806.79339316,  4353.94868702,\n",
       "        3738.02165465,  6781.13199665,  6258.53686563,  3802.32154757,\n",
       "        4679.69060739,  3413.26938345,  5382.26926795,  3103.26413427,\n",
       "        4340.14502978,  5792.02135524,  4357.90482085,  6307.47067538,\n",
       "        4382.53420011,  3356.51602988,   722.55880035,   542.99629923,\n",
       "        7419.07107033,  3747.2639444 ,  5282.38323084,  5494.01243603,\n",
       "        6941.05375802,  7322.95928003,  3629.5886932 ,  3571.12912785,\n",
       "         985.45343201,  4884.05952005,  1644.73801661,  1708.88196943,\n",
       "        1689.90104258,  1295.63879625,  4891.47726849,  5507.81236621,\n",
       "        6015.17425095,  4180.63057735,  5075.38404498,  5941.56769703,\n",
       "        6400.40498745,  4215.81855312,  5962.38814912,  6052.71452714,\n",
       "        3345.73314148,  4096.72004817,  1465.44713372,  3603.17274178,\n",
       "        4587.89942466,  6650.65699064,  1719.93360965,  6128.15135134,\n",
       "        6439.33525805,  3277.84008997,  4592.0786174 ,  3194.61235   ,\n",
       "        1039.88280183,  2100.09613678,   674.30772486,  5224.66730386,\n",
       "        5314.19870803,  4911.06477305,  3739.39082172,  6130.33989227,\n",
       "        5968.45404858,  6295.95877962,  3954.66011045,  3161.72304418,\n",
       "        3512.46233642,  4003.13186901,  2093.3677567 ,  3827.30167223,\n",
       "        6815.93521048,  4135.6591103 ,  4774.56844943,  2452.30835041,\n",
       "        3534.02173852,  4559.07413217,   -80.13110702,  3780.96495495,\n",
       "        4209.2573621 ,  5018.8490244 ,  4014.31054791,  2522.05802453,\n",
       "        6379.32086471,  3758.08076547,  3963.70346595,  6857.23289985,\n",
       "        4468.69327818,  3646.68591468,  1679.07590025,  3349.16374649,\n",
       "        1413.84032115,  6584.71977541,  6228.8522581 ,  4525.24989433,\n",
       "        3621.41590824,  5024.80981436,  3158.99701117,  1894.42556815,\n",
       "        2661.69174676,  3782.07824139,  5688.56741915,  4854.81563596,\n",
       "        3433.99423773,  6034.8877613 ,  6487.83242733,  7001.6389009 ,\n",
       "        4472.20009687,  6364.06616143,  3206.63812555,  3884.45830175,\n",
       "        1964.66801377,  3320.10969996,  4768.11361833,  2609.16521029,\n",
       "        5948.87053442,  4102.45821637,  1609.40133185,  2709.63783098,\n",
       "        4492.38383371,  3433.58537988,  4832.22105954,  5668.91506398,\n",
       "        6696.47683976,  5999.3365819 ,  4876.9804128 ,  3844.07111493,\n",
       "        7119.74773459,  4288.23361221,  6092.17812689,  4495.4422446 ,\n",
       "        3748.14881943,  6235.51941401,  6940.0886107 ,  5138.70260425,\n",
       "        4072.15746453,  5393.17403548,  4055.88151468,  2901.38279759,\n",
       "        7090.36866639,  3530.06748949,  3437.89836177,  5357.35803769,\n",
       "        3737.56116112,  4343.07354639,  4130.62547043,  2784.12775673,\n",
       "        1262.95634462,  4957.2337275 ,  7131.81091712,  4025.9618221 ,\n",
       "        6272.927947  ,  1121.76529347,  3894.19289799,  1412.23346792,\n",
       "       -1080.60059589,  7343.9965627 ,  4420.96119647,  1043.93191501,\n",
       "        7122.93902903,  4693.44706057,  3743.25298687,  5276.11451025,\n",
       "        4774.84841795,  5149.25360319,  4435.40472163,  6435.05522501,\n",
       "        3083.62731793,  4516.24346931,  3545.50138165,  4877.22875094,\n",
       "        4258.66689769,  1153.91971821,  6186.03769679,  1757.69975291,\n",
       "        6101.96704411,  5097.54048061,  4817.16807671,   822.74025349,\n",
       "        5923.54774155,  3669.98628533,  4408.10039681,  3073.61825193,\n",
       "        1373.94740226,  4593.20011568,  5356.3154055 ,  5317.79523838,\n",
       "        4323.42818435,  2818.94372265,  4989.8189471 ,  1134.86886087,\n",
       "        3244.0992691 ,  7547.16258195,  5445.92780291,  6858.42732376,\n",
       "        6533.96802008,  5826.08009284,  1831.46589177,  5376.03129393,\n",
       "        1761.06296062,  6537.26236634,  7571.17110195,  4012.85703479,\n",
       "         303.57125752,  2992.99925533,  5301.66896575,  4940.60509917,\n",
       "        1478.31443559,  6960.30576601,  6759.13861314,  3823.20271816,\n",
       "        5178.09460324,  4289.11838946,  4064.7782468 ,  4410.45636163,\n",
       "        6017.67168343,  3407.21975983,  1559.08667193,  7120.48376218,\n",
       "        3610.84591656,  5006.26782421,  1536.79783396,  1986.74861173,\n",
       "        4680.35788079,  1854.00108678,  5162.39594079,  4898.94493463,\n",
       "        4859.94703625,  3903.15656291,  4326.81673116,  3748.98138642,\n",
       "        4704.73461379,  6390.80692179,  4170.57158517,  6915.73396799,\n",
       "        4722.31478286,  6620.3525888 ,  6102.45541467,  5188.68350633,\n",
       "        6710.28512763,  6146.90528016,  5589.95034317,  7216.57059488,\n",
       "        6176.77411055,  1128.82366247,  5781.50171278,  5116.77826384,\n",
       "        5050.07431718,  5771.4900678 ,  4617.97462346,  3519.72673024,\n",
       "        5041.25087677,  5828.04993986,  3767.67779651,  3511.98966543,\n",
       "        6627.09271149,  6133.01999038,  5364.77282422,  6908.9575722 ,\n",
       "        6505.69868321,  2883.86415736,  4304.92291325,  6900.08826651,\n",
       "        6490.86577409,  4388.43227108,  3566.04040203,  3810.88383415,\n",
       "        6861.54726462,  6666.23365523,  1499.53601346,  4402.24821332,\n",
       "        2324.53110779,  6108.24251268,  3999.79738263,  1927.73284242,\n",
       "        4872.49769432,  3232.20810783,  5251.49535236,  5328.0949106 ,\n",
       "        6587.38701179,  6439.21589299,  6740.2902446 ,  5886.67815986,\n",
       "         517.63955345,  6500.55364893,  5823.71591531,  6782.96748593,\n",
       "        1557.64197371,  6119.18192394,  4531.45591893,  4105.64877904,\n",
       "        3827.04811127,  7739.62283782,  7083.78701349,  5819.70975161,\n",
       "        3333.36739867,  4457.94790494,  2866.21319974,  5642.96505651,\n",
       "        7124.18610817,  6677.39588095,  6056.09585253,  4636.84656389,\n",
       "        5037.66947797,  7085.27128711,  4939.37718174,  7208.65033799,\n",
       "        3545.96391162,  6089.94318947,  2402.51030935,  4790.34938432,\n",
       "        2879.44722109,  6553.5252112 ,  4280.59350481,  4773.33102707,\n",
       "        4292.82800881,  5056.63127051,  4323.33816564,  2794.4456495 ,\n",
       "        3813.7623656 ,  3748.33578471,  5712.11132944,  5477.97134308,\n",
       "        4140.8407895 ,  3240.88641435,  5674.69098961,  4617.66211334,\n",
       "        4340.93753776,  6472.01503942,  4298.30127383,  4942.22929694,\n",
       "        5754.15173531,  6437.91791835,  5054.19085183,  5719.90902567,\n",
       "        2158.20100014,  5286.51702319,  6966.77404895,  4435.42060999,\n",
       "        4341.73662672,  6513.18084875,  3050.70086048,  4062.91529074,\n",
       "        7143.08533508,  3061.66867472,  4478.01843698,  6791.92099791,\n",
       "        4263.43891307,  4371.98107738,  5933.16891231,  1215.80360279,\n",
       "        3265.22580108,  4463.75741442,  3913.79869183,  3395.47829666,\n",
       "        4179.80992118,  5058.24444519,  5633.47619833,  6545.81419463,\n",
       "        3351.7068003 ,  6131.09366253,  5244.74356598,  5285.66363014,\n",
       "        6566.55916089,  6265.49428606,  5655.61729096,  6370.87129097,\n",
       "        6711.08901528,  1888.53835934,  4876.50847676,  5599.14849217,\n",
       "        7214.60503848,  1024.85735516,  6868.92408246,  4085.73054489,\n",
       "        5336.82243818,  5715.50570511,  6121.91638786,  3381.20922084,\n",
       "        7695.80267476,  4398.67120485,  7301.71145973,  5905.85542579,\n",
       "        8037.54886575,  5190.08097121,  5201.23939842,  4230.21592216,\n",
       "        4117.82621548,  5774.07592695,  4281.02306168,  1849.45596244,\n",
       "        6311.73035284,  6471.75727899,  7382.52607618,  2662.4737848 ,\n",
       "        7556.28472177,  1492.28198656,  6603.55072381,  2929.64282586,\n",
       "         938.35715385,  5335.28780321,  3295.93691267,  1212.26415789,\n",
       "        7173.65769081,  4461.21963646,  6841.187504  ,  3609.05873209,\n",
       "        4107.26721991,  5027.91546911,  3860.65055641,  6828.38084877,\n",
       "        6114.31662036,  3832.71329887,  1480.48398073,  5890.41340454,\n",
       "        4103.00499084,  4799.36472638,  6194.90831641,   710.55706204,\n",
       "        1553.90066044,  5067.84681288,  1339.68323094,  5357.90046816,\n",
       "        2817.76591603,  5257.87066479,  5051.69243763,  1282.40828953,\n",
       "        3246.41395539,  3817.33185011,  4075.23249831,  5581.11155374,\n",
       "        4918.0565597 ,  3141.24863065,  4761.23643406,  4942.38270243,\n",
       "        5492.43069947,  6114.74910963,  3774.98929238,  6173.98938952,\n",
       "        1291.46608007,  7350.45442196,  4011.7777884 ,  1247.35782042,\n",
       "        5751.30195648,  6523.10466494,  3535.63378723,  5007.90673022,\n",
       "        1459.45397238,  6281.44892169,  4340.24646704,  5180.19165578,\n",
       "        2859.77044893,  2575.80036862,  2001.41607957,  7497.87693829,\n",
       "        3151.32866481,  4616.32815171,  1714.97100575,  3881.29872571,\n",
       "        7087.98187336,  2752.4329846 ,  3287.13911891,  4253.31442935,\n",
       "        2384.10589072,  4449.12619072,  5543.76992588,  5557.61261189,\n",
       "        7160.2764672 ,  4721.84876308,  5969.9014017 ,  6977.37088843,\n",
       "        5735.38885138,  5209.52933177,  6365.23705948,  5489.7151071 ,\n",
       "        7196.95336735,  1412.40247586,  6441.86936626,  6472.23149688,\n",
       "        4609.89413069,  1081.82181653,  3292.67077901,  6430.56583816,\n",
       "        5835.34066003,  4266.46139125,  4706.40721111,  2572.31636691,\n",
       "        4452.15695958,  5387.17259998,  3374.25699809,  3812.41149405,\n",
       "        6950.25630797,  4460.91130181,  6440.94565676,  2561.14219828,\n",
       "        3928.47441279,  3081.95003821,  6216.91953017,  3744.2975546 ,\n",
       "        4626.98270442,  4981.23665251,  3550.14147561,  6235.16113567,\n",
       "        1250.69667465,  5136.08475533,  1915.62995216,  3183.83829151,\n",
       "        4801.49702745,  3916.94759333,  2676.2931262 ])"
      ]
     },
     "execution_count": 33,
     "metadata": {},
     "output_type": "execute_result"
    }
   ],
   "source": [
    "#Cross validation prediction\n",
    "predict=cross_val_predict(lr_model,X_train,y_train,cv=3)\n",
    "predict"
   ]
  },
  {
   "cell_type": "markdown",
   "metadata": {},
   "source": [
    "**Cross validation prediction plot**"
   ]
  },
  {
   "cell_type": "code",
   "execution_count": 34,
   "metadata": {},
   "outputs": [
    {
     "data": {
      "image/png": "[encoded data removed]",
      "text/plain": [
       "<Figure size 1500x800 with 1 Axes>"
      ]
     },
     "metadata": {},
     "output_type": "display_data"
    }
   ],
   "source": [
    "#Cross validation plot\n",
    "fig,ax=plt.subplots(figsize=(15,8))\n",
    "ax.scatter(y_train,y_train-predict)\n",
    "ax.axhline(lw=2,color='black')\n",
    "ax.set_title('Cross validation prediction plot')\n",
    "ax.set_xlabel('Observed')\n",
    "ax.set_ylabel('Residual')\n",
    "plt.show()"
   ]
  },
  {
   "cell_type": "markdown",
   "metadata": {},
   "source": [
    "Cross validation prediction plot tells about finite variance between actual target value and predicted target value. In this plot, some data points are have same finite variance between them and for some are not have it."
   ]
  },
  {
   "cell_type": "markdown",
   "metadata": {},
   "source": [
    "**Model evalution metrics**"
   ]
  },
  {
   "cell_type": "markdown",
   "metadata": {},
   "source": [
    "**R-squared and mean squared error score**"
   ]
  },
  {
   "cell_type": "code",
   "execution_count": 35,
   "metadata": {},
   "outputs": [
    {
     "name": "stdout",
     "output_type": "stream",
     "text": [
      "R-squared scores : 0.7995611885231044\n"
     ]
    }
   ],
   "source": [
    "#R-squared scores\n",
    "r2_scores = cross_val_score(lr_model, X_train, y_train, cv=3)\n",
    "print('R-squared scores :',np.average(r2_scores))"
   ]
  },
  {
   "cell_type": "markdown",
   "metadata": {},
   "source": [
    "The R-squared or coefficient of determination is 0.80 on average for 3-fold cross validation , it means that predictor is only able to predict 80% of the variance in the target variable which is contributed by independent variables."
   ]
  },
  {
   "cell_type": "markdown",
   "metadata": {},
   "source": [
    "**Decoding the test attributes**"
   ]
  },
  {
   "cell_type": "code",
   "execution_count": 36,
   "metadata": {},
   "outputs": [
    {
     "name": "stdout",
     "output_type": "stream",
     "text": [
      "Shape of transformed dataframe : (220, 18)\n"
     ]
    },
    {
     "data": {
      "text/html": [
       "<div>\n",
       "<style scoped>\n",
       "    .dataframe tbody tr th:only-of-type {\n",
       "        vertical-align: middle;\n",
       "    }\n",
       "\n",
       "    .dataframe tbody tr th {\n",
       "        vertical-align: top;\n",
       "    }\n",
       "\n",
       "    .dataframe thead th {\n",
       "        text-align: right;\n",
       "    }\n",
       "</style>\n",
       "<table border=\"1\" class=\"dataframe\">\n",
       "  <thead>\n",
       "    <tr style=\"text-align: right;\">\n",
       "      <th></th>\n",
       "      <th>month</th>\n",
       "      <th>weekday</th>\n",
       "      <th>humidity</th>\n",
       "      <th>temp</th>\n",
       "      <th>windspeed</th>\n",
       "      <th>season_1</th>\n",
       "      <th>season_2</th>\n",
       "      <th>season_3</th>\n",
       "      <th>season_4</th>\n",
       "      <th>holiday_0</th>\n",
       "      <th>holiday_1</th>\n",
       "      <th>workingday_0</th>\n",
       "      <th>workingday_1</th>\n",
       "      <th>weather_condition_1</th>\n",
       "      <th>weather_condition_2</th>\n",
       "      <th>weather_condition_3</th>\n",
       "      <th>year_0</th>\n",
       "      <th>year_1</th>\n",
       "    </tr>\n",
       "  </thead>\n",
       "  <tbody>\n",
       "    <tr>\n",
       "      <th>0</th>\n",
       "      <td>12</td>\n",
       "      <td>2</td>\n",
       "      <td>0.733750</td>\n",
       "      <td>0.475833</td>\n",
       "      <td>0.174129</td>\n",
       "      <td>False</td>\n",
       "      <td>False</td>\n",
       "      <td>False</td>\n",
       "      <td>True</td>\n",
       "      <td>True</td>\n",
       "      <td>False</td>\n",
       "      <td>False</td>\n",
       "      <td>True</td>\n",
       "      <td>True</td>\n",
       "      <td>False</td>\n",
       "      <td>False</td>\n",
       "      <td>False</td>\n",
       "      <td>True</td>\n",
       "    </tr>\n",
       "    <tr>\n",
       "      <th>1</th>\n",
       "      <td>2</td>\n",
       "      <td>4</td>\n",
       "      <td>0.437826</td>\n",
       "      <td>0.186957</td>\n",
       "      <td>0.277752</td>\n",
       "      <td>True</td>\n",
       "      <td>False</td>\n",
       "      <td>False</td>\n",
       "      <td>False</td>\n",
       "      <td>True</td>\n",
       "      <td>False</td>\n",
       "      <td>False</td>\n",
       "      <td>True</td>\n",
       "      <td>True</td>\n",
       "      <td>False</td>\n",
       "      <td>False</td>\n",
       "      <td>True</td>\n",
       "      <td>False</td>\n",
       "    </tr>\n",
       "    <tr>\n",
       "      <th>2</th>\n",
       "      <td>10</td>\n",
       "      <td>5</td>\n",
       "      <td>0.585833</td>\n",
       "      <td>0.330833</td>\n",
       "      <td>0.229479</td>\n",
       "      <td>False</td>\n",
       "      <td>False</td>\n",
       "      <td>False</td>\n",
       "      <td>True</td>\n",
       "      <td>True</td>\n",
       "      <td>False</td>\n",
       "      <td>False</td>\n",
       "      <td>True</td>\n",
       "      <td>False</td>\n",
       "      <td>True</td>\n",
       "      <td>False</td>\n",
       "      <td>True</td>\n",
       "      <td>False</td>\n",
       "    </tr>\n",
       "    <tr>\n",
       "      <th>3</th>\n",
       "      <td>4</td>\n",
       "      <td>0</td>\n",
       "      <td>0.676250</td>\n",
       "      <td>0.425833</td>\n",
       "      <td>0.172267</td>\n",
       "      <td>False</td>\n",
       "      <td>True</td>\n",
       "      <td>False</td>\n",
       "      <td>False</td>\n",
       "      <td>True</td>\n",
       "      <td>False</td>\n",
       "      <td>True</td>\n",
       "      <td>False</td>\n",
       "      <td>False</td>\n",
       "      <td>True</td>\n",
       "      <td>False</td>\n",
       "      <td>False</td>\n",
       "      <td>True</td>\n",
       "    </tr>\n",
       "    <tr>\n",
       "      <th>4</th>\n",
       "      <td>9</td>\n",
       "      <td>2</td>\n",
       "      <td>0.570000</td>\n",
       "      <td>0.550000</td>\n",
       "      <td>0.236321</td>\n",
       "      <td>False</td>\n",
       "      <td>False</td>\n",
       "      <td>False</td>\n",
       "      <td>True</td>\n",
       "      <td>True</td>\n",
       "      <td>False</td>\n",
       "      <td>False</td>\n",
       "      <td>True</td>\n",
       "      <td>True</td>\n",
       "      <td>False</td>\n",
       "      <td>False</td>\n",
       "      <td>False</td>\n",
       "      <td>True</td>\n",
       "    </tr>\n",
       "  </tbody>\n",
       "</table>\n",
       "</div>"
      ],
      "text/plain": [
       "  month weekday  humidity      temp  windspeed  season_1  season_2  season_3  \\\n",
       "0    12       2  0.733750  0.475833   0.174129     False     False     False   \n",
       "1     2       4  0.437826  0.186957   0.277752      True     False     False   \n",
       "2    10       5  0.585833  0.330833   0.229479     False     False     False   \n",
       "3     4       0  0.676250  0.425833   0.172267     False      True     False   \n",
       "4     9       2  0.570000  0.550000   0.236321     False     False     False   \n",
       "\n",
       "   season_4  holiday_0  holiday_1  workingday_0  workingday_1  \\\n",
       "0      True       True      False         False          True   \n",
       "1     False       True      False         False          True   \n",
       "2      True       True      False         False          True   \n",
       "3     False       True      False          True         False   \n",
       "4      True       True      False         False          True   \n",
       "\n",
       "   weather_condition_1  weather_condition_2  weather_condition_3  year_0  \\\n",
       "0                 True                False                False   False   \n",
       "1                 True                False                False    True   \n",
       "2                False                 True                False    True   \n",
       "3                False                 True                False   False   \n",
       "4                 True                False                False   False   \n",
       "\n",
       "   year_1  \n",
       "0    True  \n",
       "1   False  \n",
       "2   False  \n",
       "3    True  \n",
       "4    True  "
      ]
     },
     "execution_count": 36,
     "metadata": {},
     "output_type": "execute_result"
    }
   ],
   "source": [
    "#To get dummy variables to encode the categorical features to numeric\n",
    "test_encoded_attributes=pd.get_dummies(test_attributes,columns=cat_attributes)\n",
    "print('Shape of transformed dataframe :',test_encoded_attributes.shape)\n",
    "test_encoded_attributes.head(5)"
   ]
  },
  {
   "cell_type": "markdown",
   "metadata": {},
   "source": [
    "**Model performance on test dataset**"
   ]
  },
  {
   "cell_type": "code",
   "execution_count": 37,
   "metadata": {},
   "outputs": [],
   "source": [
    "#Test dataset for prediction\n",
    "X_test=test_encoded_attributes\n",
    "y_test=y_test.total_count.values"
   ]
  },
  {
   "cell_type": "markdown",
   "metadata": {},
   "source": [
    "**Predict the model**"
   ]
  },
  {
   "cell_type": "code",
   "execution_count": 38,
   "metadata": {},
   "outputs": [
    {
     "data": {
      "text/plain": [
       "array([6197.12329782, 1378.27938018, 3212.82326914, 4825.6058012 ,\n",
       "       6672.2308762 , 6942.2039349 ,  693.99373527, 1929.80808599,\n",
       "       6981.48110092, 6844.67173725, 2798.54559266, 2121.8457389 ,\n",
       "       4465.68268321, 5486.74428544, 2189.59008463, 1827.67433934,\n",
       "       2173.48158771, 7469.58027211, 5500.15015098, 2608.49336522,\n",
       "       6933.20124884, 7837.10306473, 5532.48547104, 1261.13929139,\n",
       "       1245.46616862, 4479.83361908, 2496.61989036, 6733.37234742,\n",
       "       3854.86011528, 5802.97615092, 3103.90712661, 4252.34563973,\n",
       "       6358.26561572, 6798.3144729 , 5790.26253638, 5402.54802544,\n",
       "       6692.75313381, 5848.44121572, 3180.98457936,  805.80292438,\n",
       "       4497.72178336, 3746.59014984, 6903.03554988, 4077.94155535,\n",
       "       6907.0442079 , 1687.7942605 , 4801.49297945, 4723.9530173 ,\n",
       "       6369.39948476, 4579.39869385, 3105.76669461, 2833.81705416,\n",
       "       1829.36260472, 5601.65932265, 4625.78263028, 4089.39223053,\n",
       "       4695.03945324, 3038.41700558, 4351.67190815, 6630.97204226,\n",
       "       5007.66555062, 6211.52165985, 2572.61073169, 6727.88758541,\n",
       "       5796.09437315, 7762.90773745, 6848.64696727, 5190.62123588,\n",
       "       1568.96743527, 6028.87281828, 2665.41755406, 2144.02394304,\n",
       "       3356.69145322, 4353.40079713, 4384.19233197, 3220.04666391,\n",
       "       5367.56812181, 4254.58721895,  975.21150647, 5659.73940054,\n",
       "       2542.36328673, 3038.74147307, 5876.48516455, 3594.33351992,\n",
       "       3872.04817926, 4063.25746702, 4705.32613713, 3433.35702376,\n",
       "       3723.75265946, 3202.25007896,  716.74878819, 6822.6772443 ,\n",
       "       5922.1336808 , 4853.60489474, 3168.84865154, 3283.09921476,\n",
       "       4494.43136912, 2646.85988889, 3579.62018078, 5048.13107672,\n",
       "       7167.72890075, 4459.94922665, 6554.79055037, 3146.38282385,\n",
       "       2763.23899264, 5596.58795283, 1100.06582302, 2681.89739079,\n",
       "       7024.44831216,  931.7924249 , 5242.22711677, 6296.07286006,\n",
       "       3412.38654604, 6368.09697036, 5836.4705248 , 3083.61870855,\n",
       "       1415.60188624, 4087.11303535, 4759.40697845, 3218.82983335,\n",
       "       6242.60331962, 2330.86347702, 3311.10655563, 1322.04061013,\n",
       "       4392.81496374, 5950.26843043, 5247.11394751, 2971.91933085,\n",
       "       1974.54234005, 5824.55761634, 3254.47934616, 4154.21343601,\n",
       "       5429.03531681, 5045.72495513, 4664.37722439, 2456.12493284,\n",
       "       5508.53820275, 6242.89615977, 1492.63312718, 5161.38312791,\n",
       "       4222.70597201, 2077.20117062, 2067.28606131, 5254.4625239 ,\n",
       "       4204.22708213, 4948.47344028, 4358.71910619, 4658.33987624,\n",
       "       2352.32871068, 3730.05612973, 3315.06112536, 6839.13109875,\n",
       "       3398.97627374, 4219.50319085, 1229.91618116, 3392.59441851,\n",
       "       4254.28859819, 6577.22705595, 2567.52616578, 5181.47959436,\n",
       "       5838.0593057 , 3570.65586288, 4169.45563323, 5665.67823593,\n",
       "       1820.98838904, 3611.36777664, 5464.69741703, 1992.28047736,\n",
       "       3393.68748484, 5344.44234153, 6652.89864016, 6950.24737149,\n",
       "       1143.52812882, 3717.27949073, 3750.85288536, 5786.96295345,\n",
       "       4155.22788293, 7407.3069429 , 3850.0428338 , 2249.48384716,\n",
       "        411.8468512 , 6634.73634233, 6647.14716246, 5100.71121053,\n",
       "       6428.14183487, 6800.78631545, 7515.09981544, 2821.43860645,\n",
       "       5461.00521722, 1246.05158275, 6988.15644073, 3684.60033916,\n",
       "       3872.6546868 , 5547.97638368, 3069.41059755, 1667.79984417,\n",
       "       5235.21224286, 3484.21070087, 1355.76205855, 4965.45687472,\n",
       "       5227.10750542, 6367.15036549, 5640.6052632 , 5413.3927817 ,\n",
       "       5050.71637614, 1387.07717617, 6621.11312743, 1712.8884983 ,\n",
       "       6345.47467134, 7420.59721026, 6366.99479484, 5777.8219836 ,\n",
       "       5347.08425113, 3646.57515904, 4699.84250695, 3725.68084445,\n",
       "       7210.65078652, 6311.2008993 , 3792.75548891, 3567.67139852])"
      ]
     },
     "execution_count": 38,
     "metadata": {},
     "output_type": "execute_result"
    }
   ],
   "source": [
    "#predict the model\n",
    "lr_pred=lr_model.predict(X_test)\n",
    "lr_pred"
   ]
  },
  {
   "cell_type": "markdown",
   "metadata": {},
   "source": [
    "**Model evaluation metrics**"
   ]
  },
  {
   "cell_type": "markdown",
   "metadata": {},
   "source": [
    "**Root mean square error and mean absolute error scores**"
   ]
  },
  {
   "cell_type": "code",
   "execution_count": 39,
   "metadata": {},
   "outputs": [
    {
     "name": "stdout",
     "output_type": "stream",
     "text": [
      "Root mean square error : 783.0616972625062\n",
      "Mean absolute error : 594.7368430236427\n"
     ]
    }
   ],
   "source": [
    "import math\n",
    "#Root mean square error \n",
    "rmse=math.sqrt(metrics.mean_squared_error(y_test,lr_pred))\n",
    "#Mean absolute error\n",
    "mae=metrics.mean_absolute_error(y_test,lr_pred)\n",
    "print('Root mean square error :',rmse)\n",
    "print('Mean absolute error :',mae)"
   ]
  },
  {
   "cell_type": "markdown",
   "metadata": {},
   "source": [
    "**Residual plot**"
   ]
  },
  {
   "cell_type": "code",
   "execution_count": 40,
   "metadata": {},
   "outputs": [
    {
     "data": {
      "image/png": "[encoded data removed]",
      "text/plain": [
       "<Figure size 1500x800 with 1 Axes>"
      ]
     },
     "metadata": {},
     "output_type": "display_data"
    }
   ],
   "source": [
    "#Residual plot\n",
    "fig, ax = plt.subplots(figsize=(15,8))\n",
    "ax.scatter(y_test, y_test-lr_pred)\n",
    "ax.axhline(lw=2,color='black')\n",
    "ax.set_xlabel('Observed')\n",
    "ax.set_ylabel('Residuals')\n",
    "ax.title.set_text(\"Residual Plot\")\n",
    "plt.show()"
   ]
  },
  {
   "cell_type": "markdown",
   "metadata": {},
   "source": [
    "Residual plot tells about finite variance between actual target value and predicted target value.In this plot,very less data points are have same finite variance between them and for most are not have it."
   ]
  },
  {
   "cell_type": "markdown",
   "metadata": {},
   "source": [
    "**Decision tree regressor**"
   ]
  },
  {
   "cell_type": "code",
   "execution_count": 41,
   "metadata": {},
   "outputs": [],
   "source": [
    "#training the model\n",
    "from sklearn.tree import DecisionTreeRegressor\n",
    "dtr=DecisionTreeRegressor(min_samples_split=2,max_leaf_nodes=10)"
   ]
  },
  {
   "cell_type": "markdown",
   "metadata": {},
   "source": [
    "**Fit the model**"
   ]
  },
  {
   "cell_type": "code",
   "execution_count": 42,
   "metadata": {},
   "outputs": [
    {
     "data": {
      "text/html": [
       "<style>#sk-container-id-3 {color: black;background-color: white;}#sk-container-id-3 pre{padding: 0;}#sk-container-id-3 div.sk-toggleable {background-color: white;}#sk-container-id-3 label.sk-toggleable__label {cursor: pointer;display: block;width: 100%;margin-bottom: 0;padding: 0.3em;box-sizing: border-box;text-align: center;}#sk-container-id-3 label.sk-toggleable__label-arrow:before {content: \"▸\";float: left;margin-right: 0.25em;color: #696969;}#sk-container-id-3 label.sk-toggleable__label-arrow:hover:before {color: black;}#sk-container-id-3 div.sk-estimator:hover label.sk-toggleable__label-arrow:before {color: black;}#sk-container-id-3 div.sk-toggleable__content {max-height: 0;max-width: 0;overflow: hidden;text-align: left;background-color: #f0f8ff;}#sk-container-id-3 div.sk-toggleable__content pre {margin: 0.2em;color: black;border-radius: 0.25em;background-color: #f0f8ff;}#sk-container-id-3 input.sk-toggleable__control:checked~div.sk-toggleable__content {max-height: 200px;max-width: 100%;overflow: auto;}#sk-container-id-3 input.sk-toggleable__control:checked~label.sk-toggleable__label-arrow:before {content: \"▾\";}#sk-container-id-3 div.sk-estimator input.sk-toggleable__control:checked~label.sk-toggleable__label {background-color: #d4ebff;}#sk-container-id-3 div.sk-label input.sk-toggleable__control:checked~label.sk-toggleable__label {background-color: #d4ebff;}#sk-container-id-3 input.sk-hidden--visually {border: 0;clip: rect(1px 1px 1px 1px);clip: rect(1px, 1px, 1px, 1px);height: 1px;margin: -1px;overflow: hidden;padding: 0;position: absolute;width: 1px;}#sk-container-id-3 div.sk-estimator {font-family: monospace;background-color: #f0f8ff;border: 1px dotted black;border-radius: 0.25em;box-sizing: border-box;margin-bottom: 0.5em;}#sk-container-id-3 div.sk-estimator:hover {background-color: #d4ebff;}#sk-container-id-3 div.sk-parallel-item::after {content: \"\";width: 100%;border-bottom: 1px solid gray;flex-grow: 1;}#sk-container-id-3 div.sk-label:hover label.sk-toggleable__label {background-color: #d4ebff;}#sk-container-id-3 div.sk-serial::before {content: \"\";position: absolute;border-left: 1px solid gray;box-sizing: border-box;top: 0;bottom: 0;left: 50%;z-index: 0;}#sk-container-id-3 div.sk-serial {display: flex;flex-direction: column;align-items: center;background-color: white;padding-right: 0.2em;padding-left: 0.2em;position: relative;}#sk-container-id-3 div.sk-item {position: relative;z-index: 1;}#sk-container-id-3 div.sk-parallel {display: flex;align-items: stretch;justify-content: center;background-color: white;position: relative;}#sk-container-id-3 div.sk-item::before, #sk-container-id-3 div.sk-parallel-item::before {content: \"\";position: absolute;border-left: 1px solid gray;box-sizing: border-box;top: 0;bottom: 0;left: 50%;z-index: -1;}#sk-container-id-3 div.sk-parallel-item {display: flex;flex-direction: column;z-index: 1;position: relative;background-color: white;}#sk-container-id-3 div.sk-parallel-item:first-child::after {align-self: flex-end;width: 50%;}#sk-container-id-3 div.sk-parallel-item:last-child::after {align-self: flex-start;width: 50%;}#sk-container-id-3 div.sk-parallel-item:only-child::after {width: 0;}#sk-container-id-3 div.sk-dashed-wrapped {border: 1px dashed gray;margin: 0 0.4em 0.5em 0.4em;box-sizing: border-box;padding-bottom: 0.4em;background-color: white;}#sk-container-id-3 div.sk-label label {font-family: monospace;font-weight: bold;display: inline-block;line-height: 1.2em;}#sk-container-id-3 div.sk-label-container {text-align: center;}#sk-container-id-3 div.sk-container {/* jupyter's `normalize.less` sets `[hidden] { display: none; }` but bootstrap.min.css set `[hidden] { display: none !important; }` so we also need the `!important` here to be able to override the default hidden behavior on the sphinx rendered scikit-learn.org. See: https://github.com/scikit-learn/scikit-learn/issues/21755 */display: inline-block !important;position: relative;}#sk-container-id-3 div.sk-text-repr-fallback {display: none;}</style><div id=\"sk-container-id-3\" class=\"sk-top-container\"><div class=\"sk-text-repr-fallback\"><pre>DecisionTreeRegressor(max_leaf_nodes=10)</pre><b>In a Jupyter environment, please rerun this cell to show the HTML representation or trust the notebook. <br />On GitHub, the HTML representation is unable to render, please try loading this page with nbviewer.org.</b></div><div class=\"sk-container\" hidden><div class=\"sk-item\"><div class=\"sk-estimator sk-toggleable\"><input class=\"sk-toggleable__control sk-hidden--visually\" id=\"sk-estimator-id-3\" type=\"checkbox\" checked><label for=\"sk-estimator-id-3\" class=\"sk-toggleable__label sk-toggleable__label-arrow\">DecisionTreeRegressor</label><div class=\"sk-toggleable__content\"><pre>DecisionTreeRegressor(max_leaf_nodes=10)</pre></div></div></div></div></div>"
      ],
      "text/plain": [
       "DecisionTreeRegressor(max_leaf_nodes=10)"
      ]
     },
     "execution_count": 42,
     "metadata": {},
     "output_type": "execute_result"
    }
   ],
   "source": [
    "#Fit the trained model\n",
    "dtr.fit(X_train,y_train)"
   ]
  },
  {
   "cell_type": "markdown",
   "metadata": {},
   "source": [
    "**Decision tree regression accuracy score**"
   ]
  },
  {
   "cell_type": "code",
   "execution_count": 43,
   "metadata": {},
   "outputs": [
    {
     "name": "stdout",
     "output_type": "stream",
     "text": [
      "Accuracy of model : 0.8082151777539757\n"
     ]
    }
   ],
   "source": [
    "#Accuracy score of the model\n",
    "dtr_score=dtr.score(X_train,y_train)\n",
    "print('Accuracy of model :',dtr_score)"
   ]
  },
  {
   "cell_type": "markdown",
   "metadata": {},
   "source": [
    "**Plot the learned model**"
   ]
  },
  {
   "cell_type": "code",
   "execution_count": 51,
   "metadata": {},
   "outputs": [
    {
     "ename": "ExecutableNotFound",
     "evalue": "failed to execute WindowsPath('dot'), make sure the Graphviz executables are on your systems' PATH",
     "output_type": "error",
     "traceback": [
      "\u001b[1;31m---------------------------------------------------------------------------\u001b[0m",
      "\u001b[1;31mFileNotFoundError\u001b[0m                         Traceback (most recent call last)",
      "File \u001b[1;32mD:\\Data science course\\Lib\\site-packages\\graphviz\\backend\\execute.py:76\u001b[0m, in \u001b[0;36mrun_check\u001b[1;34m(cmd, input_lines, encoding, quiet, **kwargs)\u001b[0m\n\u001b[0;32m     75\u001b[0m         kwargs[\u001b[38;5;124m'\u001b[39m\u001b[38;5;124mstdout\u001b[39m\u001b[38;5;124m'\u001b[39m] \u001b[38;5;241m=\u001b[39m kwargs[\u001b[38;5;124m'\u001b[39m\u001b[38;5;124mstderr\u001b[39m\u001b[38;5;124m'\u001b[39m] \u001b[38;5;241m=\u001b[39m subprocess\u001b[38;5;241m.\u001b[39mPIPE\n\u001b[1;32m---> 76\u001b[0m     proc \u001b[38;5;241m=\u001b[39m _run_input_lines(cmd, input_lines, kwargs\u001b[38;5;241m=\u001b[39mkwargs)\n\u001b[0;32m     77\u001b[0m \u001b[38;5;28;01melse\u001b[39;00m:\n",
      "File \u001b[1;32mD:\\Data science course\\Lib\\site-packages\\graphviz\\backend\\execute.py:96\u001b[0m, in \u001b[0;36m_run_input_lines\u001b[1;34m(cmd, input_lines, kwargs)\u001b[0m\n\u001b[0;32m     95\u001b[0m \u001b[38;5;28;01mdef\u001b[39;00m \u001b[38;5;21m_run_input_lines\u001b[39m(cmd, input_lines, \u001b[38;5;241m*\u001b[39m, kwargs):\n\u001b[1;32m---> 96\u001b[0m     popen \u001b[38;5;241m=\u001b[39m subprocess\u001b[38;5;241m.\u001b[39mPopen(cmd, stdin\u001b[38;5;241m=\u001b[39msubprocess\u001b[38;5;241m.\u001b[39mPIPE, \u001b[38;5;241m*\u001b[39m\u001b[38;5;241m*\u001b[39mkwargs)\n\u001b[0;32m     98\u001b[0m     stdin_write \u001b[38;5;241m=\u001b[39m popen\u001b[38;5;241m.\u001b[39mstdin\u001b[38;5;241m.\u001b[39mwrite\n",
      "File \u001b[1;32mD:\\Data science course\\Lib\\subprocess.py:1026\u001b[0m, in \u001b[0;36mPopen.__init__\u001b[1;34m(self, args, bufsize, executable, stdin, stdout, stderr, preexec_fn, close_fds, shell, cwd, env, universal_newlines, startupinfo, creationflags, restore_signals, start_new_session, pass_fds, user, group, extra_groups, encoding, errors, text, umask, pipesize, process_group)\u001b[0m\n\u001b[0;32m   1023\u001b[0m             \u001b[38;5;28mself\u001b[39m\u001b[38;5;241m.\u001b[39mstderr \u001b[38;5;241m=\u001b[39m io\u001b[38;5;241m.\u001b[39mTextIOWrapper(\u001b[38;5;28mself\u001b[39m\u001b[38;5;241m.\u001b[39mstderr,\n\u001b[0;32m   1024\u001b[0m                     encoding\u001b[38;5;241m=\u001b[39mencoding, errors\u001b[38;5;241m=\u001b[39merrors)\n\u001b[1;32m-> 1026\u001b[0m     \u001b[38;5;28mself\u001b[39m\u001b[38;5;241m.\u001b[39m_execute_child(args, executable, preexec_fn, close_fds,\n\u001b[0;32m   1027\u001b[0m                         pass_fds, cwd, env,\n\u001b[0;32m   1028\u001b[0m                         startupinfo, creationflags, shell,\n\u001b[0;32m   1029\u001b[0m                         p2cread, p2cwrite,\n\u001b[0;32m   1030\u001b[0m                         c2pread, c2pwrite,\n\u001b[0;32m   1031\u001b[0m                         errread, errwrite,\n\u001b[0;32m   1032\u001b[0m                         restore_signals,\n\u001b[0;32m   1033\u001b[0m                         gid, gids, uid, umask,\n\u001b[0;32m   1034\u001b[0m                         start_new_session, process_group)\n\u001b[0;32m   1035\u001b[0m \u001b[38;5;28;01mexcept\u001b[39;00m:\n\u001b[0;32m   1036\u001b[0m     \u001b[38;5;66;03m# Cleanup if the child failed starting.\u001b[39;00m\n",
      "File \u001b[1;32mD:\\Data science course\\Lib\\subprocess.py:1538\u001b[0m, in \u001b[0;36mPopen._execute_child\u001b[1;34m(self, args, executable, preexec_fn, close_fds, pass_fds, cwd, env, startupinfo, creationflags, shell, p2cread, p2cwrite, c2pread, c2pwrite, errread, errwrite, unused_restore_signals, unused_gid, unused_gids, unused_uid, unused_umask, unused_start_new_session, unused_process_group)\u001b[0m\n\u001b[0;32m   1537\u001b[0m \u001b[38;5;28;01mtry\u001b[39;00m:\n\u001b[1;32m-> 1538\u001b[0m     hp, ht, pid, tid \u001b[38;5;241m=\u001b[39m _winapi\u001b[38;5;241m.\u001b[39mCreateProcess(executable, args,\n\u001b[0;32m   1539\u001b[0m                              \u001b[38;5;66;03m# no special security\u001b[39;00m\n\u001b[0;32m   1540\u001b[0m                              \u001b[38;5;28;01mNone\u001b[39;00m, \u001b[38;5;28;01mNone\u001b[39;00m,\n\u001b[0;32m   1541\u001b[0m                              \u001b[38;5;28mint\u001b[39m(\u001b[38;5;129;01mnot\u001b[39;00m close_fds),\n\u001b[0;32m   1542\u001b[0m                              creationflags,\n\u001b[0;32m   1543\u001b[0m                              env,\n\u001b[0;32m   1544\u001b[0m                              cwd,\n\u001b[0;32m   1545\u001b[0m                              startupinfo)\n\u001b[0;32m   1546\u001b[0m \u001b[38;5;28;01mfinally\u001b[39;00m:\n\u001b[0;32m   1547\u001b[0m     \u001b[38;5;66;03m# Child is launched. Close the parent's copy of those pipe\u001b[39;00m\n\u001b[0;32m   1548\u001b[0m     \u001b[38;5;66;03m# handles that only the child should have open.  You need\u001b[39;00m\n\u001b[1;32m   (...)\u001b[0m\n\u001b[0;32m   1551\u001b[0m     \u001b[38;5;66;03m# pipe will not close when the child process exits and the\u001b[39;00m\n\u001b[0;32m   1552\u001b[0m     \u001b[38;5;66;03m# ReadFile will hang.\u001b[39;00m\n",
      "\u001b[1;31mFileNotFoundError\u001b[0m: [WinError 2] The system cannot find the file specified",
      "\nThe above exception was the direct cause of the following exception:\n",
      "\u001b[1;31mExecutableNotFound\u001b[0m                        Traceback (most recent call last)",
      "File \u001b[1;32mD:\\Data science course\\Lib\\site-packages\\IPython\\core\\formatters.py:974\u001b[0m, in \u001b[0;36mMimeBundleFormatter.__call__\u001b[1;34m(self, obj, include, exclude)\u001b[0m\n\u001b[0;32m    971\u001b[0m     method \u001b[38;5;241m=\u001b[39m get_real_method(obj, \u001b[38;5;28mself\u001b[39m\u001b[38;5;241m.\u001b[39mprint_method)\n\u001b[0;32m    973\u001b[0m     \u001b[38;5;28;01mif\u001b[39;00m method \u001b[38;5;129;01mis\u001b[39;00m \u001b[38;5;129;01mnot\u001b[39;00m \u001b[38;5;28;01mNone\u001b[39;00m:\n\u001b[1;32m--> 974\u001b[0m         \u001b[38;5;28;01mreturn\u001b[39;00m method(include\u001b[38;5;241m=\u001b[39minclude, exclude\u001b[38;5;241m=\u001b[39mexclude)\n\u001b[0;32m    975\u001b[0m     \u001b[38;5;28;01mreturn\u001b[39;00m \u001b[38;5;28;01mNone\u001b[39;00m\n\u001b[0;32m    976\u001b[0m \u001b[38;5;28;01melse\u001b[39;00m:\n",
      "File \u001b[1;32mD:\\Data science course\\Lib\\site-packages\\graphviz\\jupyter_integration.py:98\u001b[0m, in \u001b[0;36mJupyterIntegration._repr_mimebundle_\u001b[1;34m(self, include, exclude, **_)\u001b[0m\n\u001b[0;32m     96\u001b[0m include \u001b[38;5;241m=\u001b[39m \u001b[38;5;28mset\u001b[39m(include) \u001b[38;5;28;01mif\u001b[39;00m include \u001b[38;5;129;01mis\u001b[39;00m \u001b[38;5;129;01mnot\u001b[39;00m \u001b[38;5;28;01mNone\u001b[39;00m \u001b[38;5;28;01melse\u001b[39;00m {\u001b[38;5;28mself\u001b[39m\u001b[38;5;241m.\u001b[39m_jupyter_mimetype}\n\u001b[0;32m     97\u001b[0m include \u001b[38;5;241m-\u001b[39m\u001b[38;5;241m=\u001b[39m \u001b[38;5;28mset\u001b[39m(exclude \u001b[38;5;129;01mor\u001b[39;00m [])\n\u001b[1;32m---> 98\u001b[0m \u001b[38;5;28;01mreturn\u001b[39;00m {mimetype: \u001b[38;5;28mgetattr\u001b[39m(\u001b[38;5;28mself\u001b[39m, method_name)()\n\u001b[0;32m     99\u001b[0m         \u001b[38;5;28;01mfor\u001b[39;00m mimetype, method_name \u001b[38;5;129;01min\u001b[39;00m MIME_TYPES\u001b[38;5;241m.\u001b[39mitems()\n\u001b[0;32m    100\u001b[0m         \u001b[38;5;28;01mif\u001b[39;00m mimetype \u001b[38;5;129;01min\u001b[39;00m include}\n",
      "File \u001b[1;32mD:\\Data science course\\Lib\\site-packages\\graphviz\\jupyter_integration.py:98\u001b[0m, in \u001b[0;36m<dictcomp>\u001b[1;34m(.0)\u001b[0m\n\u001b[0;32m     96\u001b[0m include \u001b[38;5;241m=\u001b[39m \u001b[38;5;28mset\u001b[39m(include) \u001b[38;5;28;01mif\u001b[39;00m include \u001b[38;5;129;01mis\u001b[39;00m \u001b[38;5;129;01mnot\u001b[39;00m \u001b[38;5;28;01mNone\u001b[39;00m \u001b[38;5;28;01melse\u001b[39;00m {\u001b[38;5;28mself\u001b[39m\u001b[38;5;241m.\u001b[39m_jupyter_mimetype}\n\u001b[0;32m     97\u001b[0m include \u001b[38;5;241m-\u001b[39m\u001b[38;5;241m=\u001b[39m \u001b[38;5;28mset\u001b[39m(exclude \u001b[38;5;129;01mor\u001b[39;00m [])\n\u001b[1;32m---> 98\u001b[0m \u001b[38;5;28;01mreturn\u001b[39;00m {mimetype: \u001b[38;5;28mgetattr\u001b[39m(\u001b[38;5;28mself\u001b[39m, method_name)()\n\u001b[0;32m     99\u001b[0m         \u001b[38;5;28;01mfor\u001b[39;00m mimetype, method_name \u001b[38;5;129;01min\u001b[39;00m MIME_TYPES\u001b[38;5;241m.\u001b[39mitems()\n\u001b[0;32m    100\u001b[0m         \u001b[38;5;28;01mif\u001b[39;00m mimetype \u001b[38;5;129;01min\u001b[39;00m include}\n",
      "File \u001b[1;32mD:\\Data science course\\Lib\\site-packages\\graphviz\\jupyter_integration.py:112\u001b[0m, in \u001b[0;36mJupyterIntegration._repr_image_svg_xml\u001b[1;34m(self)\u001b[0m\n\u001b[0;32m    110\u001b[0m \u001b[38;5;28;01mdef\u001b[39;00m \u001b[38;5;21m_repr_image_svg_xml\u001b[39m(\u001b[38;5;28mself\u001b[39m) \u001b[38;5;241m-\u001b[39m\u001b[38;5;241m>\u001b[39m \u001b[38;5;28mstr\u001b[39m:\n\u001b[0;32m    111\u001b[0m \u001b[38;5;250m    \u001b[39m\u001b[38;5;124;03m\"\"\"Return the rendered graph as SVG string.\"\"\"\u001b[39;00m\n\u001b[1;32m--> 112\u001b[0m     \u001b[38;5;28;01mreturn\u001b[39;00m \u001b[38;5;28mself\u001b[39m\u001b[38;5;241m.\u001b[39mpipe(\u001b[38;5;28mformat\u001b[39m\u001b[38;5;241m=\u001b[39m\u001b[38;5;124m'\u001b[39m\u001b[38;5;124msvg\u001b[39m\u001b[38;5;124m'\u001b[39m, encoding\u001b[38;5;241m=\u001b[39mSVG_ENCODING)\n",
      "File \u001b[1;32mD:\\Data science course\\Lib\\site-packages\\graphviz\\piping.py:104\u001b[0m, in \u001b[0;36mPipe.pipe\u001b[1;34m(self, format, renderer, formatter, neato_no_op, quiet, engine, encoding)\u001b[0m\n\u001b[0;32m     55\u001b[0m \u001b[38;5;28;01mdef\u001b[39;00m \u001b[38;5;21mpipe\u001b[39m(\u001b[38;5;28mself\u001b[39m,\n\u001b[0;32m     56\u001b[0m          \u001b[38;5;28mformat\u001b[39m: typing\u001b[38;5;241m.\u001b[39mOptional[\u001b[38;5;28mstr\u001b[39m] \u001b[38;5;241m=\u001b[39m \u001b[38;5;28;01mNone\u001b[39;00m,\n\u001b[0;32m     57\u001b[0m          renderer: typing\u001b[38;5;241m.\u001b[39mOptional[\u001b[38;5;28mstr\u001b[39m] \u001b[38;5;241m=\u001b[39m \u001b[38;5;28;01mNone\u001b[39;00m,\n\u001b[1;32m   (...)\u001b[0m\n\u001b[0;32m     61\u001b[0m          engine: typing\u001b[38;5;241m.\u001b[39mOptional[\u001b[38;5;28mstr\u001b[39m] \u001b[38;5;241m=\u001b[39m \u001b[38;5;28;01mNone\u001b[39;00m,\n\u001b[0;32m     62\u001b[0m          encoding: typing\u001b[38;5;241m.\u001b[39mOptional[\u001b[38;5;28mstr\u001b[39m] \u001b[38;5;241m=\u001b[39m \u001b[38;5;28;01mNone\u001b[39;00m) \u001b[38;5;241m-\u001b[39m\u001b[38;5;241m>\u001b[39m typing\u001b[38;5;241m.\u001b[39mUnion[\u001b[38;5;28mbytes\u001b[39m, \u001b[38;5;28mstr\u001b[39m]:\n\u001b[0;32m     63\u001b[0m \u001b[38;5;250m    \u001b[39m\u001b[38;5;124;03m\"\"\"Return the source piped through the Graphviz layout command.\u001b[39;00m\n\u001b[0;32m     64\u001b[0m \n\u001b[0;32m     65\u001b[0m \u001b[38;5;124;03m    Args:\u001b[39;00m\n\u001b[1;32m   (...)\u001b[0m\n\u001b[0;32m    102\u001b[0m \u001b[38;5;124;03m        '<?xml version='\u001b[39;00m\n\u001b[0;32m    103\u001b[0m \u001b[38;5;124;03m    \"\"\"\u001b[39;00m\n\u001b[1;32m--> 104\u001b[0m     \u001b[38;5;28;01mreturn\u001b[39;00m \u001b[38;5;28mself\u001b[39m\u001b[38;5;241m.\u001b[39m_pipe_legacy(\u001b[38;5;28mformat\u001b[39m,\n\u001b[0;32m    105\u001b[0m                              renderer\u001b[38;5;241m=\u001b[39mrenderer,\n\u001b[0;32m    106\u001b[0m                              formatter\u001b[38;5;241m=\u001b[39mformatter,\n\u001b[0;32m    107\u001b[0m                              neato_no_op\u001b[38;5;241m=\u001b[39mneato_no_op,\n\u001b[0;32m    108\u001b[0m                              quiet\u001b[38;5;241m=\u001b[39mquiet,\n\u001b[0;32m    109\u001b[0m                              engine\u001b[38;5;241m=\u001b[39mengine,\n\u001b[0;32m    110\u001b[0m                              encoding\u001b[38;5;241m=\u001b[39mencoding)\n",
      "File \u001b[1;32mD:\\Data science course\\Lib\\site-packages\\graphviz\\_tools.py:171\u001b[0m, in \u001b[0;36mdeprecate_positional_args.<locals>.decorator.<locals>.wrapper\u001b[1;34m(*args, **kwargs)\u001b[0m\n\u001b[0;32m    162\u001b[0m     wanted \u001b[38;5;241m=\u001b[39m \u001b[38;5;124m'\u001b[39m\u001b[38;5;124m, \u001b[39m\u001b[38;5;124m'\u001b[39m\u001b[38;5;241m.\u001b[39mjoin(\u001b[38;5;124mf\u001b[39m\u001b[38;5;124m'\u001b[39m\u001b[38;5;132;01m{\u001b[39;00mname\u001b[38;5;132;01m}\u001b[39;00m\u001b[38;5;124m=\u001b[39m\u001b[38;5;132;01m{\u001b[39;00mvalue\u001b[38;5;132;01m!r}\u001b[39;00m\u001b[38;5;124m'\u001b[39m\n\u001b[0;32m    163\u001b[0m                        \u001b[38;5;28;01mfor\u001b[39;00m name, value \u001b[38;5;129;01min\u001b[39;00m deprecated\u001b[38;5;241m.\u001b[39mitems())\n\u001b[0;32m    164\u001b[0m     warnings\u001b[38;5;241m.\u001b[39mwarn(\u001b[38;5;124mf\u001b[39m\u001b[38;5;124m'\u001b[39m\u001b[38;5;124mThe signature of \u001b[39m\u001b[38;5;132;01m{\u001b[39;00mfunc\u001b[38;5;241m.\u001b[39m\u001b[38;5;18m__name__\u001b[39m\u001b[38;5;132;01m}\u001b[39;00m\u001b[38;5;124m will be reduced\u001b[39m\u001b[38;5;124m'\u001b[39m\n\u001b[0;32m    165\u001b[0m                   \u001b[38;5;124mf\u001b[39m\u001b[38;5;124m'\u001b[39m\u001b[38;5;124m to \u001b[39m\u001b[38;5;132;01m{\u001b[39;00msupported_number\u001b[38;5;132;01m}\u001b[39;00m\u001b[38;5;124m positional args\u001b[39m\u001b[38;5;124m'\u001b[39m\n\u001b[0;32m    166\u001b[0m                   \u001b[38;5;124mf\u001b[39m\u001b[38;5;124m'\u001b[39m\u001b[38;5;124m \u001b[39m\u001b[38;5;132;01m{\u001b[39;00m\u001b[38;5;28mlist\u001b[39m(supported)\u001b[38;5;132;01m}\u001b[39;00m\u001b[38;5;124m: pass \u001b[39m\u001b[38;5;132;01m{\u001b[39;00mwanted\u001b[38;5;132;01m}\u001b[39;00m\u001b[38;5;124m'\u001b[39m\n\u001b[0;32m    167\u001b[0m                   \u001b[38;5;124m'\u001b[39m\u001b[38;5;124m as keyword arg(s)\u001b[39m\u001b[38;5;124m'\u001b[39m,\n\u001b[0;32m    168\u001b[0m                   stacklevel\u001b[38;5;241m=\u001b[39mstacklevel,\n\u001b[0;32m    169\u001b[0m                   category\u001b[38;5;241m=\u001b[39mcategory)\n\u001b[1;32m--> 171\u001b[0m \u001b[38;5;28;01mreturn\u001b[39;00m func(\u001b[38;5;241m*\u001b[39margs, \u001b[38;5;241m*\u001b[39m\u001b[38;5;241m*\u001b[39mkwargs)\n",
      "File \u001b[1;32mD:\\Data science course\\Lib\\site-packages\\graphviz\\piping.py:121\u001b[0m, in \u001b[0;36mPipe._pipe_legacy\u001b[1;34m(self, format, renderer, formatter, neato_no_op, quiet, engine, encoding)\u001b[0m\n\u001b[0;32m    112\u001b[0m \u001b[38;5;129m@_tools\u001b[39m\u001b[38;5;241m.\u001b[39mdeprecate_positional_args(supported_number\u001b[38;5;241m=\u001b[39m\u001b[38;5;241m2\u001b[39m)\n\u001b[0;32m    113\u001b[0m \u001b[38;5;28;01mdef\u001b[39;00m \u001b[38;5;21m_pipe_legacy\u001b[39m(\u001b[38;5;28mself\u001b[39m,\n\u001b[0;32m    114\u001b[0m                  \u001b[38;5;28mformat\u001b[39m: typing\u001b[38;5;241m.\u001b[39mOptional[\u001b[38;5;28mstr\u001b[39m] \u001b[38;5;241m=\u001b[39m \u001b[38;5;28;01mNone\u001b[39;00m,\n\u001b[1;32m   (...)\u001b[0m\n\u001b[0;32m    119\u001b[0m                  engine: typing\u001b[38;5;241m.\u001b[39mOptional[\u001b[38;5;28mstr\u001b[39m] \u001b[38;5;241m=\u001b[39m \u001b[38;5;28;01mNone\u001b[39;00m,\n\u001b[0;32m    120\u001b[0m                  encoding: typing\u001b[38;5;241m.\u001b[39mOptional[\u001b[38;5;28mstr\u001b[39m] \u001b[38;5;241m=\u001b[39m \u001b[38;5;28;01mNone\u001b[39;00m) \u001b[38;5;241m-\u001b[39m\u001b[38;5;241m>\u001b[39m typing\u001b[38;5;241m.\u001b[39mUnion[\u001b[38;5;28mbytes\u001b[39m, \u001b[38;5;28mstr\u001b[39m]:\n\u001b[1;32m--> 121\u001b[0m     \u001b[38;5;28;01mreturn\u001b[39;00m \u001b[38;5;28mself\u001b[39m\u001b[38;5;241m.\u001b[39m_pipe_future(\u001b[38;5;28mformat\u001b[39m,\n\u001b[0;32m    122\u001b[0m                              renderer\u001b[38;5;241m=\u001b[39mrenderer,\n\u001b[0;32m    123\u001b[0m                              formatter\u001b[38;5;241m=\u001b[39mformatter,\n\u001b[0;32m    124\u001b[0m                              neato_no_op\u001b[38;5;241m=\u001b[39mneato_no_op,\n\u001b[0;32m    125\u001b[0m                              quiet\u001b[38;5;241m=\u001b[39mquiet,\n\u001b[0;32m    126\u001b[0m                              engine\u001b[38;5;241m=\u001b[39mengine,\n\u001b[0;32m    127\u001b[0m                              encoding\u001b[38;5;241m=\u001b[39mencoding)\n",
      "File \u001b[1;32mD:\\Data science course\\Lib\\site-packages\\graphviz\\piping.py:149\u001b[0m, in \u001b[0;36mPipe._pipe_future\u001b[1;34m(self, format, renderer, formatter, neato_no_op, quiet, engine, encoding)\u001b[0m\n\u001b[0;32m    146\u001b[0m \u001b[38;5;28;01mif\u001b[39;00m encoding \u001b[38;5;129;01mis\u001b[39;00m \u001b[38;5;129;01mnot\u001b[39;00m \u001b[38;5;28;01mNone\u001b[39;00m:\n\u001b[0;32m    147\u001b[0m     \u001b[38;5;28;01mif\u001b[39;00m codecs\u001b[38;5;241m.\u001b[39mlookup(encoding) \u001b[38;5;129;01mis\u001b[39;00m codecs\u001b[38;5;241m.\u001b[39mlookup(\u001b[38;5;28mself\u001b[39m\u001b[38;5;241m.\u001b[39mencoding):\n\u001b[0;32m    148\u001b[0m         \u001b[38;5;66;03m# common case: both stdin and stdout need the same encoding\u001b[39;00m\n\u001b[1;32m--> 149\u001b[0m         \u001b[38;5;28;01mreturn\u001b[39;00m \u001b[38;5;28mself\u001b[39m\u001b[38;5;241m.\u001b[39m_pipe_lines_string(\u001b[38;5;241m*\u001b[39margs, encoding\u001b[38;5;241m=\u001b[39mencoding, \u001b[38;5;241m*\u001b[39m\u001b[38;5;241m*\u001b[39mkwargs)\n\u001b[0;32m    150\u001b[0m     \u001b[38;5;28;01mtry\u001b[39;00m:\n\u001b[0;32m    151\u001b[0m         raw \u001b[38;5;241m=\u001b[39m \u001b[38;5;28mself\u001b[39m\u001b[38;5;241m.\u001b[39m_pipe_lines(\u001b[38;5;241m*\u001b[39margs, input_encoding\u001b[38;5;241m=\u001b[39m\u001b[38;5;28mself\u001b[39m\u001b[38;5;241m.\u001b[39mencoding, \u001b[38;5;241m*\u001b[39m\u001b[38;5;241m*\u001b[39mkwargs)\n",
      "File \u001b[1;32mD:\\Data science course\\Lib\\site-packages\\graphviz\\backend\\piping.py:212\u001b[0m, in \u001b[0;36mpipe_lines_string\u001b[1;34m(engine, format, input_lines, encoding, renderer, formatter, neato_no_op, quiet)\u001b[0m\n\u001b[0;32m    206\u001b[0m cmd \u001b[38;5;241m=\u001b[39m dot_command\u001b[38;5;241m.\u001b[39mcommand(engine, \u001b[38;5;28mformat\u001b[39m,\n\u001b[0;32m    207\u001b[0m                           renderer\u001b[38;5;241m=\u001b[39mrenderer,\n\u001b[0;32m    208\u001b[0m                           formatter\u001b[38;5;241m=\u001b[39mformatter,\n\u001b[0;32m    209\u001b[0m                           neato_no_op\u001b[38;5;241m=\u001b[39mneato_no_op)\n\u001b[0;32m    210\u001b[0m kwargs \u001b[38;5;241m=\u001b[39m {\u001b[38;5;124m'\u001b[39m\u001b[38;5;124minput_lines\u001b[39m\u001b[38;5;124m'\u001b[39m: input_lines, \u001b[38;5;124m'\u001b[39m\u001b[38;5;124mencoding\u001b[39m\u001b[38;5;124m'\u001b[39m: encoding}\n\u001b[1;32m--> 212\u001b[0m proc \u001b[38;5;241m=\u001b[39m execute\u001b[38;5;241m.\u001b[39mrun_check(cmd, capture_output\u001b[38;5;241m=\u001b[39m\u001b[38;5;28;01mTrue\u001b[39;00m, quiet\u001b[38;5;241m=\u001b[39mquiet, \u001b[38;5;241m*\u001b[39m\u001b[38;5;241m*\u001b[39mkwargs)\n\u001b[0;32m    213\u001b[0m \u001b[38;5;28;01mreturn\u001b[39;00m proc\u001b[38;5;241m.\u001b[39mstdout\n",
      "File \u001b[1;32mD:\\Data science course\\Lib\\site-packages\\graphviz\\backend\\execute.py:81\u001b[0m, in \u001b[0;36mrun_check\u001b[1;34m(cmd, input_lines, encoding, quiet, **kwargs)\u001b[0m\n\u001b[0;32m     79\u001b[0m \u001b[38;5;28;01mexcept\u001b[39;00m \u001b[38;5;167;01mOSError\u001b[39;00m \u001b[38;5;28;01mas\u001b[39;00m e:\n\u001b[0;32m     80\u001b[0m     \u001b[38;5;28;01mif\u001b[39;00m e\u001b[38;5;241m.\u001b[39merrno \u001b[38;5;241m==\u001b[39m errno\u001b[38;5;241m.\u001b[39mENOENT:\n\u001b[1;32m---> 81\u001b[0m         \u001b[38;5;28;01mraise\u001b[39;00m ExecutableNotFound(cmd) \u001b[38;5;28;01mfrom\u001b[39;00m \u001b[38;5;21;01me\u001b[39;00m\n\u001b[0;32m     82\u001b[0m     \u001b[38;5;28;01mraise\u001b[39;00m\n\u001b[0;32m     84\u001b[0m \u001b[38;5;28;01mif\u001b[39;00m \u001b[38;5;129;01mnot\u001b[39;00m quiet \u001b[38;5;129;01mand\u001b[39;00m proc\u001b[38;5;241m.\u001b[39mstderr:\n",
      "\u001b[1;31mExecutableNotFound\u001b[0m: failed to execute WindowsPath('dot'), make sure the Graphviz executables are on your systems' PATH"
     ]
    },
    {
     "data": {
      "text/plain": [
       "<graphviz.sources.Source at 0x1dc1e31e310>"
      ]
     },
     "execution_count": 51,
     "metadata": {},
     "output_type": "execute_result"
    }
   ],
   "source": [
    "#Plot the learned model\n",
    "from sklearn import tree\n",
    "import pydot\n",
    "import graphviz\n",
    "\n",
    "# export the learned model to tree\n",
    "dot_data = tree.export_graphviz(dtr, out_file=None) \n",
    "graph = graphviz.Source(dot_data) \n",
    "graph"
   ]
  },
  {
   "cell_type": "markdown",
   "metadata": {},
   "source": [
    "Cross validation prediction"
   ]
  },
  {
   "cell_type": "code",
   "execution_count": null,
   "metadata": {},
   "outputs": [],
   "source": [
    "predict=cross_val_predict(dtr,X_train,y_train,cv=3)\n",
    "predict"
   ]
  },
  {
   "cell_type": "markdown",
   "metadata": {},
   "source": [
    "**Cross validation prediction plot**"
   ]
  },
  {
   "cell_type": "code",
   "execution_count": null,
   "metadata": {},
   "outputs": [],
   "source": [
    "# Cross validation prediction plot\n",
    "fig,ax=plt.subplots(figsize=(15,8))\n",
    "ax.scatter(y_train,y_train-predict)\n",
    "ax.axhline(lw=2,color='black')\n",
    "ax.set_title('Cross validation prediction plot')\n",
    "ax.set_xlabel('Observed')\n",
    "ax.set_ylabel('Residual')\n",
    "plt.show()"
   ]
  },
  {
   "cell_type": "markdown",
   "metadata": {},
   "source": [
    "Cross validation prediction plot tells about finite variance between actual target value and predicted target value. In this plot,some data points are have same finite variance between them and for some are not have it."
   ]
  },
  {
   "cell_type": "markdown",
   "metadata": {},
   "source": [
    "**Model evalution metrics**"
   ]
  },
  {
   "cell_type": "markdown",
   "metadata": {},
   "source": [
    "**R-squared and mean squared error scores**"
   ]
  },
  {
   "cell_type": "code",
   "execution_count": null,
   "metadata": {},
   "outputs": [],
   "source": [
    "#R-squared scores\n",
    "r2_scores = cross_val_score(dtr, X_train, y_train, cv=3)\n",
    "print('R-squared scores :',np.average(r2_scores))"
   ]
  },
  {
   "cell_type": "markdown",
   "metadata": {},
   "source": [
    "The R-squared or coefficient of determination is 0.74 on average for 3-fold cross validation ,it means that predictor is only able to predict 74% of the variance in the target variable which is contributed by independent variables."
   ]
  },
  {
   "cell_type": "markdown",
   "metadata": {},
   "source": [
    "**Model performance on test dataset**"
   ]
  },
  {
   "cell_type": "code",
   "execution_count": null,
   "metadata": {},
   "outputs": [],
   "source": [
    "#predict the model\n",
    "dtr_pred=dtr.predict(X_test)\n",
    "dtr_pred"
   ]
  },
  {
   "cell_type": "markdown",
   "metadata": {},
   "source": [
    "**Root mean squared error and mean absolute error**"
   ]
  },
  {
   "cell_type": "code",
   "execution_count": null,
   "metadata": {},
   "outputs": [],
   "source": [
    "#Root mean square error\n",
    "rmse=math.sqrt(metrics.mean_squared_error(y_test,dtr_pred))\n",
    "#Mean absolute error\n",
    "mae=metrics.mean_absolute_error(y_test,dtr_pred)\n",
    "print('Root mean square error :',rmse)\n",
    "print('Mean absolute error :',mae)"
   ]
  },
  {
   "cell_type": "markdown",
   "metadata": {},
   "source": [
    "**Residual plot**"
   ]
  },
  {
   "cell_type": "code",
   "execution_count": null,
   "metadata": {},
   "outputs": [],
   "source": [
    "#Residual scatter plot\n",
    "residuals = y_test-dtr_pred\n",
    "fig, ax = plt.subplots(figsize=(15,8))\n",
    "ax.scatter(y_test, residuals)\n",
    "ax.axhline(lw=2,color='black')\n",
    "ax.set_xlabel('Observed')\n",
    "ax.set_ylabel('Residual')\n",
    "ax.set_title('Residual plot')\n",
    "plt.show()"
   ]
  },
  {
   "cell_type": "markdown",
   "metadata": {},
   "source": [
    "Residual plot tells about finite variance between actual target value and predicted target value. In this plot, some data points are have same finite variance between them and for some are not have it."
   ]
  },
  {
   "cell_type": "markdown",
   "metadata": {},
   "source": [
    "**Random Forest**"
   ]
  },
  {
   "cell_type": "code",
   "execution_count": null,
   "metadata": {},
   "outputs": [],
   "source": [
    "#Training the model\n",
    "from sklearn.ensemble import RandomForestRegressor\n",
    "X_train=train_encoded_attributes\n",
    "rf=RandomForestRegressor(n_estimators=200)"
   ]
  },
  {
   "cell_type": "markdown",
   "metadata": {},
   "source": [
    "**Fit the model**"
   ]
  },
  {
   "cell_type": "code",
   "execution_count": null,
   "metadata": {},
   "outputs": [],
   "source": [
    "#Fit the trained model\n",
    "rf.fit(X_train,y_train)"
   ]
  },
  {
   "cell_type": "markdown",
   "metadata": {},
   "source": [
    "**Random forest accuracy score**"
   ]
  },
  {
   "cell_type": "code",
   "execution_count": null,
   "metadata": {},
   "outputs": [],
   "source": [
    "#accuracy of the model\n",
    "rf_score =rf.score(X_train,y_train)\n",
    "print('Accuracy of the model :',rf_score)"
   ]
  },
  {
   "cell_type": "markdown",
   "metadata": {},
   "source": [
    "**Cross validation prediction**"
   ]
  },
  {
   "cell_type": "code",
   "execution_count": null,
   "metadata": {},
   "outputs": [],
   "source": [
    "#Cross validation prediction\n",
    "predict=cross_val_predict(rf,X_train,y_train,cv=3)\n",
    "predict"
   ]
  },
  {
   "cell_type": "markdown",
   "metadata": {},
   "source": [
    "**Cross validation prediction plot**"
   ]
  },
  {
   "cell_type": "code",
   "execution_count": null,
   "metadata": {},
   "outputs": [],
   "source": [
    "#Cross validation prediction plot\n",
    "fig,ax=plt.subplots(figsize=(15,8))\n",
    "ax.scatter(y_train,y_train-predict)\n",
    "ax.axhline(lw=2,color='black')\n",
    "ax.set_title('Cross validation prediction plot')\n",
    "ax.set_xlabel('Observed')\n",
    "ax.set_ylabel('Residual')\n",
    "plt.show()"
   ]
  },
  {
   "cell_type": "markdown",
   "metadata": {},
   "source": [
    "Cross validation prediction plot tells about finite variance between actual target value and predicted target value. In this plot,some data points are have same finite variance between them and for some are not have it."
   ]
  },
  {
   "cell_type": "markdown",
   "metadata": {},
   "source": [
    "**R-squared and mean squared error scores**"
   ]
  },
  {
   "cell_type": "code",
   "execution_count": null,
   "metadata": {},
   "outputs": [],
   "source": [
    "#R-squared scores\n",
    "r2_scores = cross_val_score(rf, X_train, y_train, cv=3)\n",
    "print('R-squared scores :',np.average(r2_scores))\n"
   ]
  },
  {
   "cell_type": "markdown",
   "metadata": {},
   "source": [
    "The R-squared or coefficient of determination is 0.85 on average for 3-fold cross validation , it means that predictor is only able to predict 85% of the variance in the target variable which is contributed by independent variables."
   ]
  },
  {
   "cell_type": "markdown",
   "metadata": {},
   "source": [
    "**Model performance on test dataset**"
   ]
  },
  {
   "cell_type": "code",
   "execution_count": null,
   "metadata": {},
   "outputs": [],
   "source": [
    "#predict the model\n",
    "X_test=test_encoded_attributes\n",
    "rf_pred=rf.predict(X_test)\n",
    "rf_pred"
   ]
  },
  {
   "cell_type": "markdown",
   "metadata": {},
   "source": [
    "**Root mean squared error and mean absolute error**"
   ]
  },
  {
   "cell_type": "code",
   "execution_count": null,
   "metadata": {},
   "outputs": [],
   "source": [
    "#Root mean square error\n",
    "rmse = math.sqrt(metrics.mean_squared_error(y_test,rf_pred))\n",
    "print('Root mean square error :',rmse)\n",
    "#Mean absolute error\n",
    "mae=metrics.mean_absolute_error(y_test,rf_pred)\n",
    "print('Mean absolute error :',mae)"
   ]
  },
  {
   "cell_type": "markdown",
   "metadata": {},
   "source": [
    "**Residual plot**"
   ]
  },
  {
   "cell_type": "code",
   "execution_count": null,
   "metadata": {},
   "outputs": [],
   "source": [
    "#Residual scatter plot\n",
    "fig, ax = plt.subplots(figsize=(15,8))\n",
    "residuals=y_test-rf_pred\n",
    "ax.scatter(y_test, residuals)\n",
    "ax.axhline(lw=2,color='black')\n",
    "ax.set_xlabel('Observed')\n",
    "ax.set_ylabel('Residuals')\n",
    "ax.set_title('Residual plot')\n",
    "plt.show()"
   ]
  },
  {
   "cell_type": "markdown",
   "metadata": {},
   "source": [
    "Cross validation prediction plot tells about finite variance between actual target value and predicted target value.In this plot,some data points are have same finite variance between them and for some are not have it."
   ]
  },
  {
   "cell_type": "markdown",
   "metadata": {},
   "source": [
    "**Final model for predicting the bike rental count on daily basis**"
   ]
  },
  {
   "cell_type": "markdown",
   "metadata": {},
   "source": [
    "When we compare the root mean squared error and mean absolute error of all 3 models, the random forest model has less root mean squared error and mean absolute error. So, finally random forest model is bset for predicting the bike rental count on daily basis."
   ]
  },
  {
   "cell_type": "code",
   "execution_count": null,
   "metadata": {},
   "outputs": [],
   "source": [
    "Bike_df1=pd.DataFrame(y_test,columns=['y_test'])\n",
    "Bike_df2=pd.DataFrame(rf_pred,columns=['rf_pred'])\n",
    "Bike_predictions=pd.merge(Bike_df1,Bike_df2,left_index=True,right_index=True)\n",
    "Bike_predictions.to_csv('Bike_Renting_Python.csv')\n",
    "Bike_predictions"
   ]
  },
  {
   "cell_type": "code",
   "execution_count": null,
   "metadata": {},
   "outputs": [],
   "source": []
  },
  {
   "cell_type": "code",
   "execution_count": 20,
   "metadata": {},
   "outputs": [
    {
     "name": "stdout",
     "output_type": "stream",
     "text": [
      "Collecting fancyimpute\n",
      "  Downloading fancyimpute-0.7.0.tar.gz (25 kB)\n",
      "  Preparing metadata (setup.py): started\n",
      "  Preparing metadata (setup.py): finished with status 'done'\n",
      "Collecting knnimpute>=0.1.0 (from fancyimpute)\n",
      "  Downloading knnimpute-0.1.0.tar.gz (8.3 kB)\n",
      "  Preparing metadata (setup.py): started\n",
      "  Preparing metadata (setup.py): finished with status 'done'\n",
      "Requirement already satisfied: scikit-learn>=0.24.2 in d:\\data science course\\lib\\site-packages (from fancyimpute) (1.2.2)\n",
      "Collecting cvxpy (from fancyimpute)\n",
      "  Downloading cvxpy-1.5.3-cp311-cp311-win_amd64.whl.metadata (9.0 kB)\n",
      "Collecting cvxopt (from fancyimpute)\n",
      "  Downloading cvxopt-1.3.2-cp311-cp311-win_amd64.whl.metadata (1.4 kB)\n",
      "Requirement already satisfied: pytest in d:\\data science course\\lib\\site-packages (from fancyimpute) (7.4.0)\n",
      "Collecting nose (from fancyimpute)\n",
      "  Downloading nose-1.3.7-py3-none-any.whl.metadata (1.7 kB)\n",
      "Requirement already satisfied: six in d:\\data science course\\lib\\site-packages (from knnimpute>=0.1.0->fancyimpute) (1.16.0)\n",
      "Requirement already satisfied: numpy>=1.10 in d:\\data science course\\lib\\site-packages (from knnimpute>=0.1.0->fancyimpute) (1.26.4)\n",
      "Requirement already satisfied: scipy>=1.3.2 in d:\\data science course\\lib\\site-packages (from scikit-learn>=0.24.2->fancyimpute) (1.11.4)\n",
      "Requirement already satisfied: joblib>=1.1.1 in d:\\data science course\\lib\\site-packages (from scikit-learn>=0.24.2->fancyimpute) (1.2.0)\n",
      "Requirement already satisfied: threadpoolctl>=2.0.0 in d:\\data science course\\lib\\site-packages (from scikit-learn>=0.24.2->fancyimpute) (2.2.0)\n",
      "Collecting osqp>=0.6.2 (from cvxpy->fancyimpute)\n",
      "  Downloading osqp-0.6.7.post1-cp311-cp311-win_amd64.whl.metadata (2.0 kB)\n",
      "Collecting ecos>=2 (from cvxpy->fancyimpute)\n",
      "  Downloading ecos-2.0.14-cp311-cp311-win_amd64.whl.metadata (8.2 kB)\n",
      "Collecting clarabel>=0.5.0 (from cvxpy->fancyimpute)\n",
      "  Downloading clarabel-0.9.0-cp37-abi3-win_amd64.whl.metadata (4.8 kB)\n",
      "Collecting scs>=3.2.4.post1 (from cvxpy->fancyimpute)\n",
      "  Downloading scs-3.2.7-cp311-cp311-win_amd64.whl.metadata (2.1 kB)\n",
      "Requirement already satisfied: iniconfig in d:\\data science course\\lib\\site-packages (from pytest->fancyimpute) (1.1.1)\n",
      "Requirement already satisfied: packaging in d:\\data science course\\lib\\site-packages (from pytest->fancyimpute) (23.1)\n",
      "Requirement already satisfied: pluggy<2.0,>=0.12 in d:\\data science course\\lib\\site-packages (from pytest->fancyimpute) (1.0.0)\n",
      "Requirement already satisfied: colorama in d:\\data science course\\lib\\site-packages (from pytest->fancyimpute) (0.4.6)\n",
      "Collecting qdldl (from osqp>=0.6.2->cvxpy->fancyimpute)\n",
      "  Downloading qdldl-0.1.7.post4-cp311-cp311-win_amd64.whl.metadata (1.8 kB)\n",
      "Downloading cvxopt-1.3.2-cp311-cp311-win_amd64.whl (12.8 MB)\n",
      "   ---------------------------------------- 0.0/12.8 MB ? eta -:--:--\n",
      "   ---------------------------------------- 0.0/12.8 MB 1.9 MB/s eta 0:00:07\n",
      "   ---------------------------------------- 0.1/12.8 MB 975.2 kB/s eta 0:00:14\n",
      "   ---------------------------------------- 0.1/12.8 MB 980.4 kB/s eta 0:00:13\n",
      "   ---------------------------------------- 0.2/12.8 MB 913.1 kB/s eta 0:00:14\n",
      "    --------------------------------------- 0.2/12.8 MB 1.0 MB/s eta 0:00:13\n",
      "    --------------------------------------- 0.3/12.8 MB 1.0 MB/s eta 0:00:13\n",
      "    --------------------------------------- 0.3/12.8 MB 1.1 MB/s eta 0:00:12\n",
      "   - -------------------------------------- 0.4/12.8 MB 1.1 MB/s eta 0:00:12\n",
      "   - -------------------------------------- 0.4/12.8 MB 1.0 MB/s eta 0:00:13\n",
      "   - -------------------------------------- 0.5/12.8 MB 1.1 MB/s eta 0:00:12\n",
      "   - -------------------------------------- 0.5/12.8 MB 1.1 MB/s eta 0:00:12\n",
      "   - -------------------------------------- 0.6/12.8 MB 1.2 MB/s eta 0:00:11\n",
      "   -- ------------------------------------- 0.7/12.8 MB 1.1 MB/s eta 0:00:11\n",
      "   -- ------------------------------------- 0.7/12.8 MB 1.2 MB/s eta 0:00:11\n",
      "   -- ------------------------------------- 0.8/12.8 MB 1.2 MB/s eta 0:00:10\n",
      "   -- ------------------------------------- 0.9/12.8 MB 1.3 MB/s eta 0:00:10\n",
      "   --- ------------------------------------ 1.0/12.8 MB 1.3 MB/s eta 0:00:10\n",
      "   --- ------------------------------------ 1.1/12.8 MB 1.3 MB/s eta 0:00:09\n",
      "   --- ------------------------------------ 1.1/12.8 MB 1.3 MB/s eta 0:00:09\n",
      "   --- ------------------------------------ 1.2/12.8 MB 1.4 MB/s eta 0:00:09\n",
      "   --- ------------------------------------ 1.3/12.8 MB 1.4 MB/s eta 0:00:09\n",
      "   ---- ----------------------------------- 1.4/12.8 MB 1.4 MB/s eta 0:00:09\n",
      "   ---- ----------------------------------- 1.4/12.8 MB 1.4 MB/s eta 0:00:09\n",
      "   ---- ----------------------------------- 1.5/12.8 MB 1.4 MB/s eta 0:00:09\n",
      "   ---- ----------------------------------- 1.6/12.8 MB 1.4 MB/s eta 0:00:08\n",
      "   ----- ---------------------------------- 1.6/12.8 MB 1.4 MB/s eta 0:00:09\n",
      "   ----- ---------------------------------- 1.8/12.8 MB 1.4 MB/s eta 0:00:08\n",
      "   ----- ---------------------------------- 1.8/12.8 MB 1.4 MB/s eta 0:00:08\n",
      "   ----- ---------------------------------- 1.9/12.8 MB 1.4 MB/s eta 0:00:08\n",
      "   ------ --------------------------------- 2.0/12.8 MB 1.4 MB/s eta 0:00:08\n",
      "   ------ --------------------------------- 2.0/12.8 MB 1.4 MB/s eta 0:00:08\n",
      "   ------ --------------------------------- 2.2/12.8 MB 1.5 MB/s eta 0:00:08\n",
      "   ------- -------------------------------- 2.3/12.8 MB 1.5 MB/s eta 0:00:07\n",
      "   ------- -------------------------------- 2.4/12.8 MB 1.5 MB/s eta 0:00:07\n",
      "   ------- -------------------------------- 2.5/12.8 MB 1.5 MB/s eta 0:00:07\n",
      "   -------- ------------------------------- 2.6/12.8 MB 1.6 MB/s eta 0:00:07\n",
      "   -------- ------------------------------- 2.7/12.8 MB 1.6 MB/s eta 0:00:07\n",
      "   -------- ------------------------------- 2.8/12.8 MB 1.6 MB/s eta 0:00:07\n",
      "   -------- ------------------------------- 2.8/12.8 MB 1.6 MB/s eta 0:00:07\n",
      "   --------- ------------------------------ 2.9/12.8 MB 1.6 MB/s eta 0:00:07\n",
      "   --------- ------------------------------ 3.0/12.8 MB 1.6 MB/s eta 0:00:07\n",
      "   --------- ------------------------------ 3.1/12.8 MB 1.6 MB/s eta 0:00:07\n",
      "   ---------- ----------------------------- 3.2/12.8 MB 1.6 MB/s eta 0:00:06\n",
      "   ---------- ----------------------------- 3.4/12.8 MB 1.7 MB/s eta 0:00:06\n",
      "   ---------- ----------------------------- 3.5/12.8 MB 1.7 MB/s eta 0:00:06\n",
      "   ----------- ---------------------------- 3.7/12.8 MB 1.7 MB/s eta 0:00:06\n",
      "   ----------- ---------------------------- 3.8/12.8 MB 1.7 MB/s eta 0:00:06\n",
      "   ----------- ---------------------------- 3.9/12.8 MB 1.7 MB/s eta 0:00:06\n",
      "   ------------ --------------------------- 4.0/12.8 MB 1.8 MB/s eta 0:00:06\n",
      "   ------------ --------------------------- 4.1/12.8 MB 1.8 MB/s eta 0:00:05\n",
      "   ------------ --------------------------- 4.1/12.8 MB 1.8 MB/s eta 0:00:05\n",
      "   ------------- -------------------------- 4.4/12.8 MB 1.8 MB/s eta 0:00:05\n",
      "   ------------- -------------------------- 4.4/12.8 MB 1.8 MB/s eta 0:00:05\n",
      "   ------------- -------------------------- 4.5/12.8 MB 1.8 MB/s eta 0:00:05\n",
      "   -------------- ------------------------- 4.7/12.8 MB 1.9 MB/s eta 0:00:05\n",
      "   -------------- ------------------------- 4.8/12.8 MB 1.9 MB/s eta 0:00:05\n",
      "   -------------- ------------------------- 4.8/12.8 MB 1.9 MB/s eta 0:00:05\n",
      "   -------------- ------------------------- 4.8/12.8 MB 1.9 MB/s eta 0:00:05\n",
      "   -------------- ------------------------- 4.8/12.8 MB 1.9 MB/s eta 0:00:05\n",
      "   --------------- ------------------------ 5.0/12.8 MB 1.8 MB/s eta 0:00:05\n",
      "   --------------- ------------------------ 5.1/12.8 MB 1.8 MB/s eta 0:00:05\n",
      "   ---------------- ----------------------- 5.2/12.8 MB 1.8 MB/s eta 0:00:05\n",
      "   ---------------- ----------------------- 5.2/12.8 MB 1.8 MB/s eta 0:00:05\n",
      "   ---------------- ----------------------- 5.2/12.8 MB 1.8 MB/s eta 0:00:05\n",
      "   ----------------- ---------------------- 5.5/12.8 MB 1.8 MB/s eta 0:00:04\n",
      "   ----------------- ---------------------- 5.6/12.8 MB 1.8 MB/s eta 0:00:04\n",
      "   ----------------- ---------------------- 5.7/12.8 MB 1.9 MB/s eta 0:00:04\n",
      "   ------------------ --------------------- 5.9/12.8 MB 1.9 MB/s eta 0:00:04\n",
      "   ------------------ --------------------- 5.9/12.8 MB 1.9 MB/s eta 0:00:04\n",
      "   ------------------ --------------------- 5.9/12.8 MB 1.9 MB/s eta 0:00:04\n",
      "   ------------------- -------------------- 6.2/12.8 MB 1.9 MB/s eta 0:00:04\n",
      "   ------------------- -------------------- 6.3/12.8 MB 1.9 MB/s eta 0:00:04\n",
      "   ------------------- -------------------- 6.4/12.8 MB 1.9 MB/s eta 0:00:04\n",
      "   -------------------- ------------------- 6.6/12.8 MB 1.9 MB/s eta 0:00:04\n",
      "   --------------------- ------------------ 6.7/12.8 MB 2.0 MB/s eta 0:00:04\n",
      "   --------------------- ------------------ 7.0/12.8 MB 2.0 MB/s eta 0:00:03\n",
      "   ---------------------- ----------------- 7.2/12.8 MB 2.0 MB/s eta 0:00:03\n",
      "   ---------------------- ----------------- 7.3/12.8 MB 2.0 MB/s eta 0:00:03\n",
      "   ----------------------- ---------------- 7.5/12.8 MB 2.1 MB/s eta 0:00:03\n",
      "   ----------------------- ---------------- 7.6/12.8 MB 2.1 MB/s eta 0:00:03\n",
      "   ------------------------ --------------- 7.8/12.8 MB 2.1 MB/s eta 0:00:03\n",
      "   ------------------------ --------------- 7.9/12.8 MB 2.1 MB/s eta 0:00:03\n",
      "   ------------------------- -------------- 8.1/12.8 MB 2.1 MB/s eta 0:00:03\n",
      "   ------------------------- -------------- 8.2/12.8 MB 2.1 MB/s eta 0:00:03\n",
      "   ------------------------- -------------- 8.3/12.8 MB 2.1 MB/s eta 0:00:03\n",
      "   -------------------------- ------------- 8.4/12.8 MB 2.1 MB/s eta 0:00:03\n",
      "   -------------------------- ------------- 8.5/12.8 MB 2.1 MB/s eta 0:00:03\n",
      "   -------------------------- ------------- 8.6/12.8 MB 2.1 MB/s eta 0:00:02\n",
      "   --------------------------- ------------ 8.7/12.8 MB 2.1 MB/s eta 0:00:02\n",
      "   --------------------------- ------------ 8.8/12.8 MB 2.1 MB/s eta 0:00:02\n",
      "   --------------------------- ------------ 8.9/12.8 MB 2.1 MB/s eta 0:00:02\n",
      "   ---------------------------- ----------- 9.0/12.8 MB 2.1 MB/s eta 0:00:02\n",
      "   ---------------------------- ----------- 9.1/12.8 MB 2.1 MB/s eta 0:00:02\n",
      "   ---------------------------- ----------- 9.2/12.8 MB 2.1 MB/s eta 0:00:02\n",
      "   ----------------------------- ---------- 9.4/12.8 MB 2.1 MB/s eta 0:00:02\n",
      "   ----------------------------- ---------- 9.5/12.8 MB 2.2 MB/s eta 0:00:02\n",
      "   ------------------------------ --------- 9.7/12.8 MB 2.2 MB/s eta 0:00:02\n",
      "   ------------------------------ --------- 9.8/12.8 MB 2.2 MB/s eta 0:00:02\n",
      "   ------------------------------- -------- 10.0/12.8 MB 2.2 MB/s eta 0:00:02\n",
      "   ------------------------------- -------- 10.1/12.8 MB 2.2 MB/s eta 0:00:02\n",
      "   -------------------------------- ------- 10.3/12.8 MB 2.2 MB/s eta 0:00:02\n",
      "   -------------------------------- ------- 10.4/12.8 MB 2.3 MB/s eta 0:00:02\n",
      "   -------------------------------- ------- 10.5/12.8 MB 2.3 MB/s eta 0:00:02\n",
      "   -------------------------------- ------- 10.5/12.8 MB 2.3 MB/s eta 0:00:02\n",
      "   --------------------------------- ------ 10.6/12.8 MB 2.3 MB/s eta 0:00:01\n",
      "   --------------------------------- ------ 10.8/12.8 MB 2.3 MB/s eta 0:00:01\n",
      "   --------------------------------- ------ 10.9/12.8 MB 2.3 MB/s eta 0:00:01\n",
      "   ---------------------------------- ----- 11.1/12.8 MB 2.4 MB/s eta 0:00:01\n",
      "   ---------------------------------- ----- 11.1/12.8 MB 2.4 MB/s eta 0:00:01\n",
      "   ---------------------------------- ----- 11.2/12.8 MB 2.4 MB/s eta 0:00:01\n",
      "   ----------------------------------- ---- 11.4/12.8 MB 2.4 MB/s eta 0:00:01\n",
      "   ------------------------------------ --- 11.6/12.8 MB 2.5 MB/s eta 0:00:01\n",
      "   ------------------------------------ --- 11.7/12.8 MB 2.5 MB/s eta 0:00:01\n",
      "   ------------------------------------ --- 11.8/12.8 MB 2.5 MB/s eta 0:00:01\n",
      "   ------------------------------------- -- 11.9/12.8 MB 2.5 MB/s eta 0:00:01\n",
      "   ------------------------------------- -- 12.0/12.8 MB 2.5 MB/s eta 0:00:01\n",
      "   ------------------------------------- -- 12.1/12.8 MB 2.5 MB/s eta 0:00:01\n",
      "   -------------------------------------- - 12.2/12.8 MB 2.5 MB/s eta 0:00:01\n",
      "   -------------------------------------- - 12.3/12.8 MB 2.5 MB/s eta 0:00:01\n",
      "   -------------------------------------- - 12.4/12.8 MB 2.5 MB/s eta 0:00:01\n",
      "   -------------------------------------- - 12.5/12.8 MB 2.5 MB/s eta 0:00:01\n",
      "   ---------------------------------------  12.6/12.8 MB 2.5 MB/s eta 0:00:01\n",
      "   ---------------------------------------  12.7/12.8 MB 2.5 MB/s eta 0:00:01\n",
      "   ---------------------------------------  12.8/12.8 MB 2.5 MB/s eta 0:00:01\n",
      "   ---------------------------------------  12.8/12.8 MB 2.5 MB/s eta 0:00:01\n",
      "   ---------------------------------------- 12.8/12.8 MB 2.5 MB/s eta 0:00:00\n",
      "Downloading cvxpy-1.5.3-cp311-cp311-win_amd64.whl (1.1 MB)\n",
      "   ---------------------------------------- 0.0/1.1 MB ? eta -:--:--\n",
      "   --- ------------------------------------ 0.1/1.1 MB 5.5 MB/s eta 0:00:01\n",
      "   -------- ------------------------------- 0.2/1.1 MB 2.8 MB/s eta 0:00:01\n",
      "   --------------- ------------------------ 0.4/1.1 MB 3.7 MB/s eta 0:00:01\n",
      "   ----------------------- ---------------- 0.6/1.1 MB 3.9 MB/s eta 0:00:01\n",
      "   ---------------------------- ----------- 0.7/1.1 MB 3.9 MB/s eta 0:00:01\n",
      "   ---------------------------------- ----- 0.9/1.1 MB 3.6 MB/s eta 0:00:01\n",
      "   ---------------------------------------  1.0/1.1 MB 3.5 MB/s eta 0:00:01\n",
      "   ---------------------------------------- 1.1/1.1 MB 3.2 MB/s eta 0:00:00\n",
      "Downloading nose-1.3.7-py3-none-any.whl (154 kB)\n",
      "   ---------------------------------------- 0.0/154.7 kB ? eta -:--:--\n",
      "   --------------- ------------------------ 61.4/154.7 kB 3.2 MB/s eta 0:00:01\n",
      "   ---------------------------------------- 154.7/154.7 kB 3.1 MB/s eta 0:00:00\n",
      "Downloading clarabel-0.9.0-cp37-abi3-win_amd64.whl (736 kB)\n",
      "   ---------------------------------------- 0.0/736.4 kB ? eta -:--:--\n",
      "   ---------- ----------------------------- 194.6/736.4 kB 5.8 MB/s eta 0:00:01\n",
      "   ---------------------- ----------------- 409.6/736.4 kB 5.1 MB/s eta 0:00:01\n",
      "   -------------------------------- ------- 593.9/736.4 kB 4.7 MB/s eta 0:00:01\n",
      "   ---------------------------------------- 736.4/736.4 kB 4.2 MB/s eta 0:00:00\n",
      "Downloading ecos-2.0.14-cp311-cp311-win_amd64.whl (72 kB)\n",
      "   ---------------------------------------- 0.0/72.2 kB ? eta -:--:--\n",
      "   ---------------------------------------- 72.2/72.2 kB 3.9 MB/s eta 0:00:00\n",
      "Downloading osqp-0.6.7.post1-cp311-cp311-win_amd64.whl (293 kB)\n",
      "   ---------------------------------------- 0.0/293.3 kB ? eta -:--:--\n",
      "   ------------------- -------------------- 143.4/293.3 kB 4.3 MB/s eta 0:00:01\n",
      "   ---------------------------------------- 293.3/293.3 kB 4.6 MB/s eta 0:00:00\n",
      "Downloading scs-3.2.7-cp311-cp311-win_amd64.whl (8.4 MB)\n",
      "   ---------------------------------------- 0.0/8.4 MB ? eta -:--:--\n",
      "    --------------------------------------- 0.2/8.4 MB 3.7 MB/s eta 0:00:03\n",
      "   - -------------------------------------- 0.3/8.4 MB 3.4 MB/s eta 0:00:03\n",
      "   -- ------------------------------------- 0.5/8.4 MB 3.6 MB/s eta 0:00:03\n",
      "   --- ------------------------------------ 0.7/8.4 MB 3.9 MB/s eta 0:00:02\n",
      "   ---- ----------------------------------- 1.0/8.4 MB 4.1 MB/s eta 0:00:02\n",
      "   ----- ---------------------------------- 1.2/8.4 MB 4.2 MB/s eta 0:00:02\n",
      "   ------- -------------------------------- 1.5/8.4 MB 4.5 MB/s eta 0:00:02\n",
      "   ------- -------------------------------- 1.6/8.4 MB 4.6 MB/s eta 0:00:02\n",
      "   -------- ------------------------------- 1.8/8.4 MB 4.4 MB/s eta 0:00:02\n",
      "   -------- ------------------------------- 1.8/8.4 MB 4.0 MB/s eta 0:00:02\n",
      "   --------- ------------------------------ 2.0/8.4 MB 4.0 MB/s eta 0:00:02\n",
      "   --------- ------------------------------ 2.0/8.4 MB 3.6 MB/s eta 0:00:02\n",
      "   --------- ------------------------------ 2.1/8.4 MB 3.5 MB/s eta 0:00:02\n",
      "   --------- ------------------------------ 2.1/8.4 MB 3.5 MB/s eta 0:00:02\n",
      "   ---------- ----------------------------- 2.2/8.4 MB 3.1 MB/s eta 0:00:02\n",
      "   ----------- ---------------------------- 2.4/8.4 MB 3.3 MB/s eta 0:00:02\n",
      "   ----------- ---------------------------- 2.4/8.4 MB 3.2 MB/s eta 0:00:02\n",
      "   ----------- ---------------------------- 2.5/8.4 MB 3.0 MB/s eta 0:00:02\n",
      "   ------------ --------------------------- 2.5/8.4 MB 2.9 MB/s eta 0:00:03\n",
      "   ------------ --------------------------- 2.6/8.4 MB 2.8 MB/s eta 0:00:03\n",
      "   ------------ --------------------------- 2.6/8.4 MB 2.7 MB/s eta 0:00:03\n",
      "   ------------ --------------------------- 2.7/8.4 MB 2.6 MB/s eta 0:00:03\n",
      "   ------------- -------------------------- 2.8/8.4 MB 2.6 MB/s eta 0:00:03\n",
      "   -------------- ------------------------- 2.9/8.4 MB 2.7 MB/s eta 0:00:03\n",
      "   -------------- ------------------------- 3.0/8.4 MB 2.6 MB/s eta 0:00:03\n",
      "   -------------- ------------------------- 3.1/8.4 MB 2.6 MB/s eta 0:00:03\n",
      "   -------------- ------------------------- 3.1/8.4 MB 2.5 MB/s eta 0:00:03\n",
      "   --------------- ------------------------ 3.2/8.4 MB 2.5 MB/s eta 0:00:03\n",
      "   --------------- ------------------------ 3.3/8.4 MB 2.4 MB/s eta 0:00:03\n",
      "   --------------- ------------------------ 3.3/8.4 MB 2.4 MB/s eta 0:00:03\n",
      "   ---------------- ----------------------- 3.4/8.4 MB 2.4 MB/s eta 0:00:03\n",
      "   ---------------- ----------------------- 3.5/8.4 MB 2.3 MB/s eta 0:00:03\n",
      "   ---------------- ----------------------- 3.5/8.4 MB 2.3 MB/s eta 0:00:03\n",
      "   ----------------- ---------------------- 3.6/8.4 MB 2.3 MB/s eta 0:00:03\n",
      "   ----------------- ---------------------- 3.7/8.4 MB 2.3 MB/s eta 0:00:03\n",
      "   ----------------- ---------------------- 3.7/8.4 MB 2.3 MB/s eta 0:00:03\n",
      "   ------------------ --------------------- 3.8/8.4 MB 2.2 MB/s eta 0:00:03\n",
      "   ------------------ --------------------- 3.9/8.4 MB 2.2 MB/s eta 0:00:03\n",
      "   ------------------ --------------------- 4.0/8.4 MB 2.2 MB/s eta 0:00:02\n",
      "   ------------------- -------------------- 4.1/8.4 MB 2.2 MB/s eta 0:00:02\n",
      "   ------------------- -------------------- 4.1/8.4 MB 2.2 MB/s eta 0:00:02\n",
      "   ------------------- -------------------- 4.2/8.4 MB 2.2 MB/s eta 0:00:02\n",
      "   -------------------- ------------------- 4.3/8.4 MB 2.1 MB/s eta 0:00:02\n",
      "   -------------------- ------------------- 4.3/8.4 MB 2.1 MB/s eta 0:00:02\n",
      "   --------------------- ------------------ 4.4/8.4 MB 2.1 MB/s eta 0:00:02\n",
      "   --------------------- ------------------ 4.5/8.4 MB 2.1 MB/s eta 0:00:02\n",
      "   ---------------------- ----------------- 4.7/8.4 MB 2.1 MB/s eta 0:00:02\n",
      "   ---------------------- ----------------- 4.8/8.4 MB 2.2 MB/s eta 0:00:02\n",
      "   ----------------------- ---------------- 5.0/8.4 MB 2.2 MB/s eta 0:00:02\n",
      "   ------------------------ --------------- 5.2/8.4 MB 2.2 MB/s eta 0:00:02\n",
      "   ------------------------- -------------- 5.3/8.4 MB 2.3 MB/s eta 0:00:02\n",
      "   -------------------------- ------------- 5.6/8.4 MB 2.3 MB/s eta 0:00:02\n",
      "   --------------------------- ------------ 5.8/8.4 MB 2.3 MB/s eta 0:00:02\n",
      "   --------------------------- ------------ 5.8/8.4 MB 2.3 MB/s eta 0:00:02\n",
      "   ---------------------------- ----------- 5.9/8.4 MB 2.3 MB/s eta 0:00:02\n",
      "   ---------------------------- ----------- 6.0/8.4 MB 2.3 MB/s eta 0:00:02\n",
      "   ----------------------------- ---------- 6.1/8.4 MB 2.3 MB/s eta 0:00:02\n",
      "   ----------------------------- ---------- 6.2/8.4 MB 2.3 MB/s eta 0:00:01\n",
      "   ----------------------------- ---------- 6.3/8.4 MB 2.3 MB/s eta 0:00:01\n",
      "   ------------------------------ --------- 6.3/8.4 MB 2.3 MB/s eta 0:00:01\n",
      "   ------------------------------ --------- 6.4/8.4 MB 2.3 MB/s eta 0:00:01\n",
      "   ------------------------------ --------- 6.5/8.4 MB 2.3 MB/s eta 0:00:01\n",
      "   ------------------------------- -------- 6.6/8.4 MB 2.2 MB/s eta 0:00:01\n",
      "   ------------------------------- -------- 6.6/8.4 MB 2.2 MB/s eta 0:00:01\n",
      "   ------------------------------- -------- 6.7/8.4 MB 2.2 MB/s eta 0:00:01\n",
      "   -------------------------------- ------- 6.7/8.4 MB 2.2 MB/s eta 0:00:01\n",
      "   -------------------------------- ------- 6.8/8.4 MB 2.2 MB/s eta 0:00:01\n",
      "   -------------------------------- ------- 6.9/8.4 MB 2.2 MB/s eta 0:00:01\n",
      "   -------------------------------- ------- 6.9/8.4 MB 2.2 MB/s eta 0:00:01\n",
      "   --------------------------------- ------ 7.0/8.4 MB 2.2 MB/s eta 0:00:01\n",
      "   --------------------------------- ------ 7.1/8.4 MB 2.2 MB/s eta 0:00:01\n",
      "   --------------------------------- ------ 7.1/8.4 MB 2.1 MB/s eta 0:00:01\n",
      "   ---------------------------------- ----- 7.2/8.4 MB 2.1 MB/s eta 0:00:01\n",
      "   ---------------------------------- ----- 7.2/8.4 MB 2.1 MB/s eta 0:00:01\n",
      "   ---------------------------------- ----- 7.2/8.4 MB 2.1 MB/s eta 0:00:01\n",
      "   ---------------------------------- ----- 7.3/8.4 MB 2.1 MB/s eta 0:00:01\n",
      "   ---------------------------------- ----- 7.3/8.4 MB 2.1 MB/s eta 0:00:01\n",
      "   ----------------------------------- ---- 7.4/8.4 MB 2.0 MB/s eta 0:00:01\n",
      "   ----------------------------------- ---- 7.4/8.4 MB 2.0 MB/s eta 0:00:01\n",
      "   ----------------------------------- ---- 7.5/8.4 MB 2.0 MB/s eta 0:00:01\n",
      "   ----------------------------------- ---- 7.5/8.4 MB 2.0 MB/s eta 0:00:01\n",
      "   ------------------------------------ --- 7.6/8.4 MB 2.0 MB/s eta 0:00:01\n",
      "   ------------------------------------ --- 7.6/8.4 MB 2.0 MB/s eta 0:00:01\n",
      "   ------------------------------------ --- 7.7/8.4 MB 2.0 MB/s eta 0:00:01\n",
      "   ------------------------------------ --- 7.8/8.4 MB 2.0 MB/s eta 0:00:01\n",
      "   ------------------------------------- -- 7.8/8.4 MB 2.0 MB/s eta 0:00:01\n",
      "   ------------------------------------- -- 7.9/8.4 MB 2.0 MB/s eta 0:00:01\n",
      "   ------------------------------------- -- 8.0/8.4 MB 2.0 MB/s eta 0:00:01\n",
      "   -------------------------------------- - 8.0/8.4 MB 2.0 MB/s eta 0:00:01\n",
      "   -------------------------------------- - 8.1/8.4 MB 2.0 MB/s eta 0:00:01\n",
      "   ---------------------------------------  8.3/8.4 MB 2.0 MB/s eta 0:00:01\n",
      "   ---------------------------------------  8.4/8.4 MB 2.0 MB/s eta 0:00:01\n",
      "   ---------------------------------------- 8.4/8.4 MB 1.9 MB/s eta 0:00:00\n",
      "Downloading qdldl-0.1.7.post4-cp311-cp311-win_amd64.whl (87 kB)\n",
      "   ---------------------------------------- 0.0/87.6 kB ? eta -:--:--\n",
      "   ------------------ --------------------- 41.0/87.6 kB 1.9 MB/s eta 0:00:01\n",
      "   ------------------------------------- -- 81.9/87.6 kB 919.0 kB/s eta 0:00:01\n",
      "   ---------------------------------------- 87.6/87.6 kB 703.5 kB/s eta 0:00:00\n",
      "Building wheels for collected packages: fancyimpute, knnimpute\n",
      "  Building wheel for fancyimpute (setup.py): started\n",
      "  Building wheel for fancyimpute (setup.py): finished with status 'done'\n",
      "  Created wheel for fancyimpute: filename=fancyimpute-0.7.0-py3-none-any.whl size=29907 sha256=25efe7f6f4ac20fc264c320d29cf086cddf16686becd971d3e85967c8d1241b5\n",
      "  Stored in directory: c:\\users\\basavaraj mg\\appdata\\local\\pip\\cache\\wheels\\1a\\f3\\a1\\f7f10b5ae2c2459398762a3fcf4ac18c325311c7e3163d5a15\n",
      "  Building wheel for knnimpute (setup.py): started\n",
      "  Building wheel for knnimpute (setup.py): finished with status 'done'\n",
      "  Created wheel for knnimpute: filename=knnimpute-0.1.0-py3-none-any.whl size=11341 sha256=db79a9f43902e704d49933b97c9aa7c19090b80a426a3b1fec03e22ee6a7463d\n",
      "  Stored in directory: c:\\users\\basavaraj mg\\appdata\\local\\pip\\cache\\wheels\\ea\\e8\\e0\\79872972161e54486517ae507f94b2c7cea27fb7ef793bd415\n",
      "Successfully built fancyimpute knnimpute\n",
      "Installing collected packages: nose, knnimpute, cvxopt, scs, qdldl, ecos, clarabel, osqp, cvxpy, fancyimpute\n",
      "Successfully installed clarabel-0.9.0 cvxopt-1.3.2 cvxpy-1.5.3 ecos-2.0.14 fancyimpute-0.7.0 knnimpute-0.1.0 nose-1.3.7 osqp-0.6.7.post1 qdldl-0.1.7.post4 scs-3.2.7\n",
      "Note: you may need to restart the kernel to use updated packages.\n"
     ]
    }
   ],
   "source": [
    "pip install fancyimpute"
   ]
  },
  {
   "cell_type": "code",
   "execution_count": 45,
   "metadata": {},
   "outputs": [
    {
     "name": "stdout",
     "output_type": "stream",
     "text": [
      "Collecting pydot\n",
      "  Downloading pydot-3.0.2-py3-none-any.whl.metadata (10 kB)\n",
      "Requirement already satisfied: pyparsing>=3.0.9 in d:\\data science course\\lib\\site-packages (from pydot) (3.0.9)\n",
      "Downloading pydot-3.0.2-py3-none-any.whl (35 kB)\n",
      "Installing collected packages: pydot\n",
      "Successfully installed pydot-3.0.2\n",
      "Note: you may need to restart the kernel to use updated packages.\n"
     ]
    }
   ],
   "source": [
    "pip install pydot\n"
   ]
  },
  {
   "cell_type": "code",
   "execution_count": 49,
   "metadata": {},
   "outputs": [
    {
     "name": "stdout",
     "output_type": "stream",
     "text": [
      "Collecting graphviz\n",
      "  Downloading graphviz-0.20.3-py3-none-any.whl.metadata (12 kB)\n",
      "Downloading graphviz-0.20.3-py3-none-any.whl (47 kB)\n",
      "   ---------------------------------------- 0.0/47.1 kB ? eta -:--:--\n",
      "   ---------------------------------------- 0.0/47.1 kB ? eta -:--:--\n",
      "   ---------------------------------------- 0.0/47.1 kB ? eta -:--:--\n",
      "   ---------------------------------------- 0.0/47.1 kB ? eta -:--:--\n",
      "   ---------------------------------------- 0.0/47.1 kB ? eta -:--:--\n",
      "   ---------------------------------------- 47.1/47.1 kB 2.3 MB/s eta 0:00:00\n",
      "Installing collected packages: graphviz\n",
      "Successfully installed graphviz-0.20.3\n",
      "Note: you may need to restart the kernel to use updated packages.\n"
     ]
    }
   ],
   "source": [
    "pip install graphviz"
   ]
  },
  {
   "cell_type": "code",
   "execution_count": null,
   "metadata": {},
   "outputs": [],
   "source": []
  }
 ],
 "metadata": {
  "kernelspec": {
   "display_name": "Python 3 (ipykernel)",
   "language": "python",
   "name": "python3"
  },
  "language_info": {
   "codemirror_mode": {
    "name": "ipython",
    "version": 3
   },
   "file_extension": ".py",
   "mimetype": "text/x-python",
   "name": "python",
   "nbconvert_exporter": "python",
   "pygments_lexer": "ipython3",
   "version": "3.11.7"
  }
 },
 "nbformat": 4,
 "nbformat_minor": 4
}
